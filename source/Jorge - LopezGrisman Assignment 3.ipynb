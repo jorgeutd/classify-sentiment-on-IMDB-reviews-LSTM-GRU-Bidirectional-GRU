{
 "cells": [
  {
   "cell_type": "markdown",
   "metadata": {},
   "source": [
    "##### install Additional libraries"
   ]
  },
  {
   "cell_type": "code",
   "execution_count": 1,
   "metadata": {},
   "outputs": [],
   "source": [
    "%%capture\n",
    "!pip install tqdm --upgrade\n",
    "!pip install keras-tuner --upgrade\n",
    "!pip install awswrangler\n",
    "!pip install--upgrade plotly\n",
    "!pip install --upgrade seaborn\n",
    "!pip install pydot\n",
    "!pip install pydotplus\n",
    "!pip install graphviz"
   ]
  },
  {
   "cell_type": "markdown",
   "metadata": {},
   "source": [
    "##### Import libraries "
   ]
  },
  {
   "cell_type": "code",
   "execution_count": 1,
   "metadata": {},
   "outputs": [
    {
     "name": "stdout",
     "output_type": "stream",
     "text": [
      "Num GPUs Available:  1\n"
     ]
    }
   ],
   "source": [
    "import tensorflow as tf\n",
    "print(\"Num GPUs Available: \", len(tf.config.list_physical_devices('GPU')))"
   ]
  },
  {
   "cell_type": "code",
   "execution_count": 2,
   "metadata": {},
   "outputs": [
    {
     "name": "stdout",
     "output_type": "stream",
     "text": [
      "INFO:tensorflow:Using MirroredStrategy with devices ('/job:localhost/replica:0/task:0/device:GPU:0',)\n",
      "Number of devices: 1\n"
     ]
    }
   ],
   "source": [
    "# Create a MirroredStrategy for multi gpu training\n",
    "strategy = tf.distribute.MirroredStrategy()\n",
    "print('Number of devices: {}'.format(strategy.num_replicas_in_sync))"
   ]
  },
  {
   "cell_type": "code",
   "execution_count": 3,
   "metadata": {},
   "outputs": [
    {
     "name": "stdout",
     "output_type": "stream",
     "text": [
      "2.4.3\n"
     ]
    }
   ],
   "source": [
    "print(tf.__version__)"
   ]
  },
  {
   "cell_type": "code",
   "execution_count": 4,
   "metadata": {},
   "outputs": [],
   "source": [
    "import numpy as np\n",
    "import pandas as pd\n",
    "from datetime import datetime, date, timedelta\n",
    "import os\n",
    "import math\n",
    "import warnings \n",
    "import time\n",
    "import boto3\n",
    "from io import BytesIO\n",
    "import re\n",
    "import awswrangler as wr\n",
    "%matplotlib inline\n",
    "import matplotlib.pyplot as plt\n",
    "import warnings\n",
    "warnings.filterwarnings(\"ignore\")\n",
    "warnings.simplefilter('ignore')\n",
    "plt.style.use('seaborn')\n",
    "\n",
    "import seaborn as sns\n",
    "from IPython.display import Image\n",
    "import pydot\n",
    "import pydotplus\n",
    "import graphviz\n",
    "\n",
    "from tqdm import tqdm"
   ]
  },
  {
   "cell_type": "markdown",
   "metadata": {},
   "source": [
    "## Using RNNs to classify sentiment on IMDB data\n",
    "\n",
    "In this assignment,you will train three types of RNNs:  \"vanilla\" RNN, LSTM and GRU to predict the sentiment on IMDB reviews.  \n",
    "\n",
    "Keras provides a convenient interface to load the data and immediately encode the words into integers (based on the most common words). \n",
    "This will save you a lot of the drudgery that is usually involved when working with raw text.\n",
    "\n",
    "The IMDB is  data consists of 25000 training sequences and 25000 test sequences. \n",
    "The outcome is binary (positive/negative) and both outcomes are equally represented in both the training and the test set.\n",
    "\n",
    "\n",
    "Walk through the followinng steps to prepare the data and the building of an RNN model. "
   ]
  },
  {
   "cell_type": "code",
   "execution_count": 22,
   "metadata": {},
   "outputs": [],
   "source": [
    "from tensorflow import keras\n",
    "from tensorflow.keras import backend as k\n",
    "from tensorflow.keras.preprocessing import sequence\n",
    "from tensorflow.keras.models import Sequential\n",
    "from tensorflow.keras.layers import Dense, Embedding,SimpleRNN,LSTM,Embedding, GlobalMaxPool1D, Dropout, Conv1D,LSTM, Flatten, GRU,Bidirectional\n",
    "from tensorflow.keras.datasets import imdb\n",
    "from tensorflow.keras import optimizers\n",
    "from tensorflow.keras import initializers"
   ]
  },
  {
   "cell_type": "markdown",
   "metadata": {},
   "source": [
    "1- Use the `imdb.load_data()` to load in the data \n",
    "\n",
    "2- Specify the maximum length of a sequence to 20000 words and the pick the most common words to 30. "
   ]
  },
  {
   "cell_type": "code",
   "execution_count": 6,
   "metadata": {},
   "outputs": [],
   "source": [
    "###### This is not correct should be the other way around  :\n",
    "###### Specify the maximum length of a sequence to 20000 words and the pick the most common words to 30.\n",
    "##### Should be: max length  = 30 and otherwise dimension will not match like describe below : Expected output:\n",
    "\n",
    "# x_train shape: (25000, 30)\n",
    "# x_test shape: (25000, 30)\n",
    "\n",
    "##### max_features_words = 20000"
   ]
  },
  {
   "cell_type": "code",
   "execution_count": 7,
   "metadata": {},
   "outputs": [
    {
     "name": "stdout",
     "output_type": "stream",
     "text": [
      "--- 4.514948129653931 seconds ---\n"
     ]
    }
   ],
   "source": [
    "import time\n",
    "start_time = time.time()\n",
    "\n",
    "max_features_words= 20000 ##### maximum length of a sequence\n",
    "# cut texts after this number of words (among top max_features most common words)\n",
    "maxlen= 30\n",
    "\n",
    "(x_train, y_train), (x_test, y_test) = imdb.load_data(num_words=max_features_words)\n",
    "\n",
    "print(\"--- %s seconds ---\" % (time.time() - start_time))  "
   ]
  },
  {
   "cell_type": "code",
   "execution_count": 8,
   "metadata": {
    "scrolled": true
   },
   "outputs": [
    {
     "name": "stdout",
     "output_type": "stream",
     "text": [
      "Maximum value of a word index \n",
      "19999\n",
      "Maximum length num words of review in train \n",
      "2494\n"
     ]
    }
   ],
   "source": [
    "print(\"Maximum value of a word index \")\n",
    "print(max([max(sequence) for sequence in x_train]))\n",
    "print(\"Maximum length num words of review in train \")\n",
    "print(max([len(sequence) for sequence in x_train]))"
   ]
  },
  {
   "cell_type": "code",
   "execution_count": 9,
   "metadata": {},
   "outputs": [],
   "source": [
    "from statistics import mean,median "
   ]
  },
  {
   "cell_type": "code",
   "execution_count": 10,
   "metadata": {},
   "outputs": [
    {
     "name": "stdout",
     "output_type": "stream",
     "text": [
      "Mean length num words of review in train \n",
      "238.71364\n"
     ]
    }
   ],
   "source": [
    "\n",
    "print(\"Mean length num words of review in train \")\n",
    "print(mean([len(sequence) for sequence in x_train]))"
   ]
  },
  {
   "cell_type": "code",
   "execution_count": 11,
   "metadata": {},
   "outputs": [
    {
     "data": {
      "image/png": "[encoded data removed]",
      "text/plain": [
       "<Figure size 792x576 with 1 Axes>"
      ]
     },
     "metadata": {},
     "output_type": "display_data"
    }
   ],
   "source": [
    "review_len_train = []\n",
    "review_len_test = []\n",
    "for i,ii in zip(x_train, x_test):\n",
    "    review_len_train.append(len(i))\n",
    "    review_len_test.append(len(ii))\n",
    "\n",
    "sns.set(style=\"whitegrid\")\n",
    "plt.figure(figsize=(11,8))\n",
    "\n",
    "sns.distplot(review_len_train)\n",
    "sns.distplot(review_len_test)\n",
    "plt.show()"
   ]
  },
  {
   "cell_type": "code",
   "execution_count": 12,
   "metadata": {},
   "outputs": [
    {
     "name": "stdout",
     "output_type": "stream",
     "text": [
      "Median  length num words of review in train \n",
      "178.0\n"
     ]
    }
   ],
   "source": [
    "\n",
    "print(\"Median  length num words of review in train \")\n",
    "print(median ([len(sequence) for sequence in x_train]))"
   ]
  },
  {
   "cell_type": "code",
   "execution_count": 13,
   "metadata": {},
   "outputs": [
    {
     "name": "stdout",
     "output_type": "stream",
     "text": [
      "Y train values:  [0 1]\n",
      "Y test values:  [0 1]\n"
     ]
    }
   ],
   "source": [
    "print(\"Y train values: \",np.unique(y_train))\n",
    "print(\"Y test values: \",np.unique(y_test))"
   ]
  },
  {
   "cell_type": "markdown",
   "metadata": {},
   "source": [
    "3- Check that the number of sequences in train and test datasets are equal (default split):\n",
    "    \n",
    "Expected output:\n",
    "- `x_train = 25000 train sequences`\n",
    "\n",
    "- `x_test = 25000 test sequences`"
   ]
  },
  {
   "cell_type": "code",
   "execution_count": 8,
   "metadata": {},
   "outputs": [
    {
     "name": "stdout",
     "output_type": "stream",
     "text": [
      "25000 train sequences\n",
      "25000 test sequences\n"
     ]
    }
   ],
   "source": [
    "print(len(x_train), 'train sequences')\n",
    "print(len(x_test), 'test sequences')"
   ]
  },
  {
   "cell_type": "markdown",
   "metadata": {},
   "source": [
    "4- Pad (or truncate) the sequences so that they are of the maximum length"
   ]
  },
  {
   "cell_type": "code",
   "execution_count": 9,
   "metadata": {},
   "outputs": [
    {
     "name": "stdout",
     "output_type": "stream",
     "text": [
      "--- 0.3547811508178711 seconds ---\n"
     ]
    }
   ],
   "source": [
    "import time\n",
    "start_time = time.time()\n",
    "\n",
    "x_train = sequence.pad_sequences(x_train, maxlen=maxlen)\n",
    "x_test = sequence.pad_sequences(x_test, maxlen=maxlen)\n",
    "\n",
    "print(\"--- %s seconds ---\" % (time.time() - start_time))  "
   ]
  },
  {
   "cell_type": "markdown",
   "metadata": {},
   "source": [
    "5- After padding or truncating, check the dimensionality of x_train and x_test.\n",
    "\n",
    "Expected output:\n",
    "- `x_train shape: (25000, 30)`\n",
    "- `x_test shape: (25000, 30)`"
   ]
  },
  {
   "cell_type": "code",
   "execution_count": 10,
   "metadata": {},
   "outputs": [
    {
     "name": "stdout",
     "output_type": "stream",
     "text": [
      "x_train shape: (25000, 30)\n",
      "x_test shape: (25000, 30)\n"
     ]
    }
   ],
   "source": [
    "print('x_train shape:', x_train.shape)\n",
    "print('x_test shape:', x_test.shape)"
   ]
  },
  {
   "cell_type": "code",
   "execution_count": 11,
   "metadata": {},
   "outputs": [
    {
     "data": {
      "text/plain": [
       "array([  18,   51,   36,   28,  224,   92,   25,  104,    4,  226,   65,\n",
       "         16,   38, 1334,   88,   12,   16,  283,    5,   16, 4472,  113,\n",
       "        103,   32,   15,   16, 5345,   19,  178,   32], dtype=int32)"
      ]
     },
     "execution_count": 11,
     "metadata": {},
     "output_type": "execute_result"
    }
   ],
   "source": [
    "x_train[0]"
   ]
  },
  {
   "cell_type": "code",
   "execution_count": 12,
   "metadata": {},
   "outputs": [
    {
     "data": {
      "text/plain": [
       "array([   31,    23,    27,  7479,    29,   220,   468,     8,   124,\n",
       "          14,   286,   170,     8,   157,    46,     5,    27,   239,\n",
       "          16,   179, 15387,    38,    32,    25,  7944,   451,   202,\n",
       "          14,     6,   717], dtype=int32)"
      ]
     },
     "execution_count": 12,
     "metadata": {},
     "output_type": "execute_result"
    }
   ],
   "source": [
    "x_test[0]"
   ]
  },
  {
   "cell_type": "code",
   "execution_count": 13,
   "metadata": {
    "scrolled": true
   },
   "outputs": [
    {
     "data": {
      "text/plain": [
       "1"
      ]
     },
     "execution_count": 13,
     "metadata": {},
     "output_type": "execute_result"
    }
   ],
   "source": [
    "y_train[0]"
   ]
  },
  {
   "cell_type": "code",
   "execution_count": 14,
   "metadata": {},
   "outputs": [
    {
     "data": {
      "text/plain": [
       "0"
      ]
     },
     "execution_count": 14,
     "metadata": {},
     "output_type": "execute_result"
    }
   ],
   "source": [
    "y_test[0]"
   ]
  },
  {
   "cell_type": "markdown",
   "metadata": {},
   "source": [
    "## Keras layers for (Vanilla) RNNs\n",
    "\n",
    "In this step, you will not use pre-trained word vectors, Instead you will learn an embedding as part of the  the Vanilla) RNNs network  Neural Network. \n",
    "\n",
    "In the Keras API documentation, the Embedding Layer and the SimpleRNN Layer have the following syntax:\n",
    "\n",
    "### Embedding Layer\n",
    "`keras.layers.embeddings.Embedding(input_dim, output_dim, embeddings_initializer='uniform', embeddings_regularizer=None, activity_regularizer=None, embeddings_constraint=None, mask_zero=False, input_length=None)`\n",
    "\n",
    "- This layer maps each integer into a distinct (dense) word vector of length `output_dim`.\n",
    "- Can think of this as learning a word vector embedding \"on the fly\" rather than using an existing mapping (like GloVe)\n",
    "- The `input_dim` should be the size of the vocabulary.\n",
    "- The `input_length` specifies the length of the sequences that the network expects.\n",
    "\n",
    "### SimpleRNN Layer\n",
    "`keras.layers.recurrent.SimpleRNN(units, activation='tanh', use_bias=True, kernel_initializer='glorot_uniform', recurrent_initializer='orthogonal', bias_initializer='zeros', kernel_regularizer=None, recurrent_regularizer=None, bias_regularizer=None, activity_regularizer=None, kernel_constraint=None, recurrent_constraint=None, bias_constraint=None, dropout=0.0, recurrent_dropout=0.0)`\n",
    "\n",
    "- This is the basic RNN, where the output is also fed back as the \"hidden state\" to the next iteration.\n",
    "- The parameter `units` gives the dimensionality of the output (and therefore the hidden state).  Note that typically there will be another layer after the RNN mapping the (RNN) output to the network output.  So we should think of this value as the desired dimensionality of the hidden state and not necessarily the desired output of the network.\n",
    "- Recall that there are two sets of weights, one for the \"recurrent\" phase and the other for the \"kernel\" phase.  These can be configured separately in terms of their initialization, regularization, etc.\n",
    "\n",
    "\n",
    "\n",
    "\n"
   ]
  },
  {
   "cell_type": "markdown",
   "metadata": {},
   "source": [
    "6- Build the RNN with three layers: \n",
    "- The SimpleRNN layer with 5 neurons and initialize its kernel with stddev=0.001\n",
    "\n",
    "- The Embedding layer and initialize it by setting the word embedding dimension to 50. This means that this layer takes each integer in the sequence and embeds it in a 50-dimensional vector.\n",
    "\n",
    "-  The output layer has the sigmoid activation function."
   ]
  },
  {
   "cell_type": "code",
   "execution_count": 15,
   "metadata": {},
   "outputs": [
    {
     "data": {
      "text/plain": [
       "30"
      ]
     },
     "execution_count": 15,
     "metadata": {},
     "output_type": "execute_result"
    }
   ],
   "source": [
    "x_train.shape[1]"
   ]
  },
  {
   "cell_type": "code",
   "execution_count": 16,
   "metadata": {},
   "outputs": [],
   "source": [
    "# embedding dimension = 50"
   ]
  },
  {
   "cell_type": "code",
   "execution_count": 17,
   "metadata": {},
   "outputs": [
    {
     "name": "stdout",
     "output_type": "stream",
     "text": [
      "INFO:tensorflow:Using MirroredStrategy with devices ('/job:localhost/replica:0/task:0/device:GPU:0',)\n"
     ]
    }
   ],
   "source": [
    "tf.debugging.set_log_device_placement(True)\n",
    "gpus = tf.config.list_logical_devices('GPU')\n",
    "strategy = tf.distribute.MirroredStrategy(gpus)\n",
    "with strategy.scope():\n",
    "    def simple_rnn():\n",
    "        model = Sequential()\n",
    "        model.add(Embedding(max_features_words, 50, input_shape=(x_train.shape[1],))) \n",
    "        model.add(SimpleRNN(5,  kernel_initializer=initializers.RandomNormal(stddev=0.001)))\n",
    "        model.add(Dense(1, activation='sigmoid')) ##### Dense 1 == output class\n",
    "        model.summary()\n",
    "        return model"
   ]
  },
  {
   "cell_type": "code",
   "execution_count": 20,
   "metadata": {},
   "outputs": [
    {
     "name": "stdout",
     "output_type": "stream",
     "text": [
      "Model: \"sequential_1\"\n",
      "_________________________________________________________________\n",
      "Layer (type)                 Output Shape              Param #   \n",
      "=================================================================\n",
      "embedding_1 (Embedding)      (None, 30, 50)            1000000   \n",
      "_________________________________________________________________\n",
      "simple_rnn_1 (SimpleRNN)     (None, 5)                 280       \n",
      "_________________________________________________________________\n",
      "dense_1 (Dense)              (None, 1)                 6         \n",
      "=================================================================\n",
      "Total params: 1,000,286\n",
      "Trainable params: 1,000,286\n",
      "Non-trainable params: 0\n",
      "_________________________________________________________________\n"
     ]
    }
   ],
   "source": [
    "model = simple_rnn()"
   ]
  },
  {
   "cell_type": "code",
   "execution_count": 21,
   "metadata": {},
   "outputs": [
    {
     "data": {
      "image/png": "[encoded data removed]",
      "text/plain": [
       "<IPython.core.display.Image object>"
      ]
     },
     "execution_count": 21,
     "metadata": {},
     "output_type": "execute_result"
    }
   ],
   "source": [
    "from tensorflow.keras.utils import plot_model\n",
    "#plot the RNNlstm model architecture\n",
    "\n",
    "plot_model(model, to_file='rnn_model_plot.png', show_shapes=True, show_layer_names=True)"
   ]
  },
  {
   "cell_type": "markdown",
   "metadata": {},
   "source": [
    "7- How many parameters have the embedding layer?"
   ]
  },
  {
   "cell_type": "code",
   "execution_count": 22,
   "metadata": {},
   "outputs": [],
   "source": [
    "#### Param  =  1000000 "
   ]
  },
  {
   "cell_type": "markdown",
   "metadata": {},
   "source": [
    "8- Train the network with the RMSprop with learning rate of .0001 and epochs=10."
   ]
  },
  {
   "cell_type": "code",
   "execution_count": 10,
   "metadata": {},
   "outputs": [],
   "source": [
    "METRICS = [ \n",
    "      keras.metrics.BinaryAccuracy(name='acc'),\n",
    "      keras.metrics.Precision(name='precision'),\n",
    "      keras.metrics.Recall(name='recall')\n",
    "]"
   ]
  },
  {
   "cell_type": "code",
   "execution_count": 24,
   "metadata": {},
   "outputs": [
    {
     "name": "stdout",
     "output_type": "stream",
     "text": [
      "Model: \"sequential_1\"\n",
      "_________________________________________________________________\n",
      "Layer (type)                 Output Shape              Param #   \n",
      "=================================================================\n",
      "embedding_1 (Embedding)      (None, 30, 50)            1000000   \n",
      "_________________________________________________________________\n",
      "simple_rnn_1 (SimpleRNN)     (None, 5)                 280       \n",
      "_________________________________________________________________\n",
      "dense_1 (Dense)              (None, 1)                 6         \n",
      "=================================================================\n",
      "Total params: 1,000,286\n",
      "Trainable params: 1,000,286\n",
      "Non-trainable params: 0\n",
      "_________________________________________________________________\n"
     ]
    }
   ],
   "source": [
    "##### Compile model \n",
    "\n",
    "model.compile(optimizer = optimizers.RMSprop(lr = .0001), \n",
    "             loss='binary_crossentropy',\n",
    "              metrics=METRICS )\n",
    "\n",
    "model.summary()"
   ]
  },
  {
   "cell_type": "code",
   "execution_count": 25,
   "metadata": {},
   "outputs": [
    {
     "name": "stdout",
     "output_type": "stream",
     "text": [
      "Epoch 1/10\n",
      "625/625 [==============================] - 10s 14ms/step - loss: 0.6851 - acc: 0.5549 - precision: 0.5485 - recall: 0.6822 - val_loss: 0.6183 - val_acc: 0.6664 - val_precision: 0.6477 - val_recall: 0.7112\n",
      "Epoch 2/10\n",
      "625/625 [==============================] - 8s 13ms/step - loss: 0.5902 - acc: 0.6946 - precision: 0.6934 - recall: 0.6990 - val_loss: 0.5667 - val_acc: 0.7144 - val_precision: 0.7068 - val_recall: 0.7205\n",
      "Epoch 3/10\n",
      "625/625 [==============================] - 9s 14ms/step - loss: 0.5287 - acc: 0.7550 - precision: 0.7585 - recall: 0.7506 - val_loss: 0.5358 - val_acc: 0.7372 - val_precision: 0.7318 - val_recall: 0.7384\n",
      "Epoch 4/10\n",
      "625/625 [==============================] - 8s 13ms/step - loss: 0.4880 - acc: 0.7799 - precision: 0.7791 - recall: 0.7776 - val_loss: 0.5158 - val_acc: 0.7506 - val_precision: 0.7460 - val_recall: 0.7505\n",
      "Epoch 5/10\n",
      "625/625 [==============================] - 8s 13ms/step - loss: 0.4557 - acc: 0.8010 - precision: 0.8049 - recall: 0.7948 - val_loss: 0.5021 - val_acc: 0.7552 - val_precision: 0.7671 - val_recall: 0.7242\n",
      "Epoch 6/10\n",
      "625/625 [==============================] - 8s 13ms/step - loss: 0.4269 - acc: 0.8196 - precision: 0.8230 - recall: 0.8142 - val_loss: 0.4925 - val_acc: 0.7636 - val_precision: 0.7536 - val_recall: 0.7744\n",
      "Epoch 7/10\n",
      "625/625 [==============================] - 8s 13ms/step - loss: 0.4081 - acc: 0.8303 - precision: 0.8357 - recall: 0.8211 - val_loss: 0.4846 - val_acc: 0.7698 - val_precision: 0.7572 - val_recall: 0.7857\n",
      "Epoch 8/10\n",
      "625/625 [==============================] - 8s 13ms/step - loss: 0.3867 - acc: 0.8416 - precision: 0.8462 - recall: 0.8379 - val_loss: 0.4804 - val_acc: 0.7714 - val_precision: 0.7671 - val_recall: 0.7712\n",
      "Epoch 9/10\n",
      "625/625 [==============================] - 8s 13ms/step - loss: 0.3792 - acc: 0.8429 - precision: 0.8491 - recall: 0.8347 - val_loss: 0.4801 - val_acc: 0.7716 - val_precision: 0.7655 - val_recall: 0.7748\n",
      "Epoch 10/10\n",
      "625/625 [==============================] - 8s 13ms/step - loss: 0.3588 - acc: 0.8550 - precision: 0.8593 - recall: 0.8472 - val_loss: 0.4796 - val_acc: 0.7724 - val_precision: 0.7751 - val_recall: 0.7594\n",
      "85.79995894432068\n"
     ]
    }
   ],
   "source": [
    "import time\n",
    "\n",
    "start = time.time()\n",
    "\n",
    "# train model\n",
    "history = model.fit(x_train, y_train,\n",
    "                    epochs=10,\n",
    "                    validation_split=0.2)\n",
    "\n",
    "end = time.time()\n",
    "\n",
    "print(end - start)"
   ]
  },
  {
   "cell_type": "markdown",
   "metadata": {},
   "source": [
    "9- PLot the loss and accuracy metrics during the training and interpret the result."
   ]
  },
  {
   "cell_type": "code",
   "execution_count": 26,
   "metadata": {},
   "outputs": [
    {
     "data": {
      "text/html": [
       "<div>\n",
       "<style scoped>\n",
       "    .dataframe tbody tr th:only-of-type {\n",
       "        vertical-align: middle;\n",
       "    }\n",
       "\n",
       "    .dataframe tbody tr th {\n",
       "        vertical-align: top;\n",
       "    }\n",
       "\n",
       "    .dataframe thead th {\n",
       "        text-align: right;\n",
       "    }\n",
       "</style>\n",
       "<table border=\"1\" class=\"dataframe\">\n",
       "  <thead>\n",
       "    <tr style=\"text-align: right;\">\n",
       "      <th></th>\n",
       "      <th>loss</th>\n",
       "      <th>acc</th>\n",
       "      <th>precision</th>\n",
       "      <th>recall</th>\n",
       "      <th>val_loss</th>\n",
       "      <th>val_acc</th>\n",
       "      <th>val_precision</th>\n",
       "      <th>val_recall</th>\n",
       "    </tr>\n",
       "  </thead>\n",
       "  <tbody>\n",
       "    <tr>\n",
       "      <th>0</th>\n",
       "      <td>0.665730</td>\n",
       "      <td>0.60490</td>\n",
       "      <td>0.596501</td>\n",
       "      <td>0.655967</td>\n",
       "      <td>0.618312</td>\n",
       "      <td>0.6664</td>\n",
       "      <td>0.647731</td>\n",
       "      <td>0.711219</td>\n",
       "    </tr>\n",
       "    <tr>\n",
       "      <th>1</th>\n",
       "      <td>0.577798</td>\n",
       "      <td>0.70525</td>\n",
       "      <td>0.705485</td>\n",
       "      <td>0.707806</td>\n",
       "      <td>0.566739</td>\n",
       "      <td>0.7144</td>\n",
       "      <td>0.706794</td>\n",
       "      <td>0.720535</td>\n",
       "    </tr>\n",
       "    <tr>\n",
       "      <th>2</th>\n",
       "      <td>0.522954</td>\n",
       "      <td>0.75675</td>\n",
       "      <td>0.759964</td>\n",
       "      <td>0.752766</td>\n",
       "      <td>0.535805</td>\n",
       "      <td>0.7372</td>\n",
       "      <td>0.731835</td>\n",
       "      <td>0.738356</td>\n",
       "    </tr>\n",
       "    <tr>\n",
       "      <th>3</th>\n",
       "      <td>0.484789</td>\n",
       "      <td>0.78270</td>\n",
       "      <td>0.785650</td>\n",
       "      <td>0.779384</td>\n",
       "      <td>0.515832</td>\n",
       "      <td>0.7506</td>\n",
       "      <td>0.745974</td>\n",
       "      <td>0.750506</td>\n",
       "    </tr>\n",
       "    <tr>\n",
       "      <th>4</th>\n",
       "      <td>0.454707</td>\n",
       "      <td>0.80150</td>\n",
       "      <td>0.805094</td>\n",
       "      <td>0.797229</td>\n",
       "      <td>0.502097</td>\n",
       "      <td>0.7552</td>\n",
       "      <td>0.767053</td>\n",
       "      <td>0.724180</td>\n",
       "    </tr>\n",
       "    <tr>\n",
       "      <th>5</th>\n",
       "      <td>0.429535</td>\n",
       "      <td>0.81665</td>\n",
       "      <td>0.821479</td>\n",
       "      <td>0.810587</td>\n",
       "      <td>0.492534</td>\n",
       "      <td>0.7636</td>\n",
       "      <td>0.753646</td>\n",
       "      <td>0.774403</td>\n",
       "    </tr>\n",
       "    <tr>\n",
       "      <th>6</th>\n",
       "      <td>0.409464</td>\n",
       "      <td>0.82685</td>\n",
       "      <td>0.830782</td>\n",
       "      <td>0.822251</td>\n",
       "      <td>0.484582</td>\n",
       "      <td>0.7698</td>\n",
       "      <td>0.757221</td>\n",
       "      <td>0.785743</td>\n",
       "    </tr>\n",
       "    <tr>\n",
       "      <th>7</th>\n",
       "      <td>0.391513</td>\n",
       "      <td>0.83645</td>\n",
       "      <td>0.841138</td>\n",
       "      <td>0.830824</td>\n",
       "      <td>0.480362</td>\n",
       "      <td>0.7714</td>\n",
       "      <td>0.767123</td>\n",
       "      <td>0.771162</td>\n",
       "    </tr>\n",
       "    <tr>\n",
       "      <th>8</th>\n",
       "      <td>0.376417</td>\n",
       "      <td>0.84360</td>\n",
       "      <td>0.849661</td>\n",
       "      <td>0.836108</td>\n",
       "      <td>0.480107</td>\n",
       "      <td>0.7716</td>\n",
       "      <td>0.765506</td>\n",
       "      <td>0.774808</td>\n",
       "    </tr>\n",
       "    <tr>\n",
       "      <th>9</th>\n",
       "      <td>0.362730</td>\n",
       "      <td>0.85160</td>\n",
       "      <td>0.856609</td>\n",
       "      <td>0.845678</td>\n",
       "      <td>0.479571</td>\n",
       "      <td>0.7724</td>\n",
       "      <td>0.775114</td>\n",
       "      <td>0.759417</td>\n",
       "    </tr>\n",
       "  </tbody>\n",
       "</table>\n",
       "</div>"
      ],
      "text/plain": [
       "       loss      acc  precision    recall  val_loss  val_acc  val_precision  \\\n",
       "0  0.665730  0.60490   0.596501  0.655967  0.618312   0.6664       0.647731   \n",
       "1  0.577798  0.70525   0.705485  0.707806  0.566739   0.7144       0.706794   \n",
       "2  0.522954  0.75675   0.759964  0.752766  0.535805   0.7372       0.731835   \n",
       "3  0.484789  0.78270   0.785650  0.779384  0.515832   0.7506       0.745974   \n",
       "4  0.454707  0.80150   0.805094  0.797229  0.502097   0.7552       0.767053   \n",
       "5  0.429535  0.81665   0.821479  0.810587  0.492534   0.7636       0.753646   \n",
       "6  0.409464  0.82685   0.830782  0.822251  0.484582   0.7698       0.757221   \n",
       "7  0.391513  0.83645   0.841138  0.830824  0.480362   0.7714       0.767123   \n",
       "8  0.376417  0.84360   0.849661  0.836108  0.480107   0.7716       0.765506   \n",
       "9  0.362730  0.85160   0.856609  0.845678  0.479571   0.7724       0.775114   \n",
       "\n",
       "   val_recall  \n",
       "0    0.711219  \n",
       "1    0.720535  \n",
       "2    0.738356  \n",
       "3    0.750506  \n",
       "4    0.724180  \n",
       "5    0.774403  \n",
       "6    0.785743  \n",
       "7    0.771162  \n",
       "8    0.774808  \n",
       "9    0.759417  "
      ]
     },
     "metadata": {},
     "output_type": "display_data"
    }
   ],
   "source": [
    "from pandas import option_context\n",
    "\n",
    "with option_context('display.max_rows', 3000,'display.max_colwidth', 200,'display.max_columns',50):\n",
    "              display(pd.DataFrame(model.history.history).head(10))"
   ]
  },
  {
   "cell_type": "code",
   "execution_count": 27,
   "metadata": {},
   "outputs": [],
   "source": [
    "def max_metric(model):\n",
    "    max_acc = max(model.history.history['acc'])\n",
    "    \n",
    "    min_loss = min(model.history.history['loss'])\n",
    "    max_val_acc = max(model.history.history['val_acc'])\n",
    "    \n",
    "    min_val_loss = min(model.history.history['val_loss'])\n",
    "    print(f\"Maximum Accuracy: {max_acc} \\nMinimum categorical_crossentropy loss: {min_loss} \\nMaximum Validation Accuracy: {max_val_acc} \\nMaximum Validation categorical_crossentropy Loss: {min_val_loss} \\n\")\n"
   ]
  },
  {
   "cell_type": "code",
   "execution_count": 28,
   "metadata": {},
   "outputs": [
    {
     "name": "stdout",
     "output_type": "stream",
     "text": [
      "Maximum Accuracy: 0.8515999913215637 \n",
      "Minimum categorical_crossentropy loss: 0.3627302646636963 \n",
      "Maximum Validation Accuracy: 0.7724000215530396 \n",
      "Maximum Validation categorical_crossentropy Loss: 0.4795711934566498 \n",
      "\n"
     ]
    }
   ],
   "source": [
    "max_metric(model)"
   ]
  },
  {
   "cell_type": "code",
   "execution_count": 36,
   "metadata": {},
   "outputs": [
    {
     "name": "stdout",
     "output_type": "stream",
     "text": [
      "Training Accuracy is:  0.85\n"
     ]
    }
   ],
   "source": [
    "\n",
    "print(\"Training Accuracy is: \",format(history.history['acc'][-1],\".2f\"))"
   ]
  },
  {
   "cell_type": "code",
   "execution_count": 37,
   "metadata": {},
   "outputs": [
    {
     "name": "stdout",
     "output_type": "stream",
     "text": [
      "Validation Accuracy is:  0.77\n"
     ]
    }
   ],
   "source": [
    "\n",
    "print(\"Validation Accuracy is: \",format(history.history['val_acc'][-1],\".2f\"))"
   ]
  },
  {
   "cell_type": "code",
   "execution_count": 38,
   "metadata": {},
   "outputs": [
    {
     "name": "stdout",
     "output_type": "stream",
     "text": [
      "Training loss is:  0.36\n"
     ]
    }
   ],
   "source": [
    "print(\"Training loss is: \",format(history.history['loss'][-1],\".2f\"))"
   ]
  },
  {
   "cell_type": "code",
   "execution_count": 39,
   "metadata": {},
   "outputs": [
    {
     "name": "stdout",
     "output_type": "stream",
     "text": [
      "Validation loss is:  0.48\n"
     ]
    }
   ],
   "source": [
    "print(\"Validation loss is: \",format(history.history['val_loss'][-1],\".2f\"))"
   ]
  },
  {
   "cell_type": "code",
   "execution_count": 40,
   "metadata": {},
   "outputs": [
    {
     "data": {
      "image/png": "[encoded data removed]",
      "text/plain": [
       "<Figure size 576x396 with 1 Axes>"
      ]
     },
     "metadata": {},
     "output_type": "display_data"
    },
    {
     "data": {
      "image/png": "[encoded data removed]",
      "text/plain": [
       "<Figure size 576x396 with 1 Axes>"
      ]
     },
     "metadata": {},
     "output_type": "display_data"
    }
   ],
   "source": [
    "\n",
    "#### Plot training & validation accuracy values\n",
    "figsize = (25, 12)\n",
    "plt.style.use(\"ggplot\")\n",
    "plt.rcParams['axes.facecolor']='white'\n",
    "plt.plot(model.history.history['acc'])\n",
    "plt.plot(model.history.history['val_acc'])\n",
    "plt.title('Model LSTM(NN) accuracy')\n",
    "plt.ylabel('Accuracy')\n",
    "plt.xlabel('Epoch')\n",
    "plt.legend(['Training Accuracy', 'Validation Accuracy'], loc='upper left')\n",
    "plt.show()\n",
    "\n",
    "#### Plot training & validation loss values\n",
    "plt.plot(model.history.history['loss'])\n",
    "plt.plot(model.history.history['val_loss'])\n",
    "plt.title('Model LSTM(NN) Model loss')\n",
    "plt.ylabel('Loss')\n",
    "plt.xlabel('Epoch')\n",
    "plt.legend(['Training Loss', 'Validation Loss'], loc='lower right')\n",
    "plt.show()"
   ]
  },
  {
   "cell_type": "markdown",
   "metadata": {},
   "source": [
    "###### Our simple RNN model achieved the following results in our training set:\n",
    "###### accuracy = 0.85 ( 85 % )\n",
    "###### loss = 0.36\n",
    "###### In terms of training time I was able to set up GPU training runtime\n",
    "###### total training time was : 87.266 sec\n",
    "##### he training loss was decreasing are the number of epochs were increasing\n",
    "##### We could train for more epochs based on the val accuracy line"
   ]
  },
  {
   "cell_type": "markdown",
   "metadata": {},
   "source": [
    "10- Check the accuracy and the loss of your models on the test dataset."
   ]
  },
  {
   "cell_type": "code",
   "execution_count": 41,
   "metadata": {},
   "outputs": [
    {
     "name": "stdout",
     "output_type": "stream",
     "text": [
      "782/782 [==============================] - 3s 4ms/step - loss: 0.4774 - acc: 0.7712 - precision: 0.7811 - recall: 0.7537\n"
     ]
    }
   ],
   "source": [
    "score = model.evaluate(x_test,y_test)\n"
   ]
  },
  {
   "cell_type": "code",
   "execution_count": 42,
   "metadata": {},
   "outputs": [
    {
     "data": {
      "text/plain": [
       "[0.4774017333984375,\n",
       " 0.7712399959564209,\n",
       " 0.7811126708984375,\n",
       " 0.7536799907684326]"
      ]
     },
     "execution_count": 42,
     "metadata": {},
     "output_type": "execute_result"
    }
   ],
   "source": [
    "score"
   ]
  },
  {
   "cell_type": "code",
   "execution_count": 43,
   "metadata": {},
   "outputs": [
    {
     "data": {
      "text/html": [
       "<div>\n",
       "<style scoped>\n",
       "    .dataframe tbody tr th:only-of-type {\n",
       "        vertical-align: middle;\n",
       "    }\n",
       "\n",
       "    .dataframe tbody tr th {\n",
       "        vertical-align: top;\n",
       "    }\n",
       "\n",
       "    .dataframe thead th {\n",
       "        text-align: right;\n",
       "    }\n",
       "</style>\n",
       "<table border=\"1\" class=\"dataframe\">\n",
       "  <thead>\n",
       "    <tr style=\"text-align: right;\">\n",
       "      <th></th>\n",
       "      <th>0</th>\n",
       "    </tr>\n",
       "  </thead>\n",
       "  <tbody>\n",
       "    <tr>\n",
       "      <th>0</th>\n",
       "      <td>0.477402</td>\n",
       "    </tr>\n",
       "    <tr>\n",
       "      <th>1</th>\n",
       "      <td>0.771240</td>\n",
       "    </tr>\n",
       "    <tr>\n",
       "      <th>2</th>\n",
       "      <td>0.781113</td>\n",
       "    </tr>\n",
       "    <tr>\n",
       "      <th>3</th>\n",
       "      <td>0.753680</td>\n",
       "    </tr>\n",
       "  </tbody>\n",
       "</table>\n",
       "</div>"
      ],
      "text/plain": [
       "          0\n",
       "0  0.477402\n",
       "1  0.771240\n",
       "2  0.781113\n",
       "3  0.753680"
      ]
     },
     "metadata": {},
     "output_type": "display_data"
    }
   ],
   "source": [
    "from pandas import option_context\n",
    "\n",
    "with option_context('display.max_rows', 3000,'display.max_colwidth', 200,'display.max_columns',50):\n",
    "              display(pd.DataFrame(score).head(20))"
   ]
  },
  {
   "cell_type": "code",
   "execution_count": 44,
   "metadata": {},
   "outputs": [
    {
     "data": {
      "text/plain": [
       "[0.4774017333984375,\n",
       " 0.7712399959564209,\n",
       " 0.7811126708984375,\n",
       " 0.7536799907684326]"
      ]
     },
     "execution_count": 44,
     "metadata": {},
     "output_type": "execute_result"
    }
   ],
   "source": [
    "score "
   ]
  },
  {
   "cell_type": "code",
   "execution_count": 45,
   "metadata": {},
   "outputs": [
    {
     "name": "stdout",
     "output_type": "stream",
     "text": [
      "loss in test set: 47.74017333984375\n"
     ]
    }
   ],
   "source": [
    "print(\"loss in test set:\", score[0]*100)"
   ]
  },
  {
   "cell_type": "code",
   "execution_count": 46,
   "metadata": {},
   "outputs": [
    {
     "name": "stdout",
     "output_type": "stream",
     "text": [
      "Accuracy IN test set: 77.12399959564209\n"
     ]
    }
   ],
   "source": [
    "print(\"Accuracy IN test set:\", score[1]*100)"
   ]
  },
  {
   "cell_type": "markdown",
   "metadata": {},
   "source": [
    "##### We obtained an accuracy = 77.12 in our test set"
   ]
  },
  {
   "cell_type": "markdown",
   "metadata": {},
   "source": [
    "## Tuning The Vanilla RNN Network\n"
   ]
  },
  {
   "cell_type": "markdown",
   "metadata": {},
   "source": [
    "11- Prepare the data to use sequences of length 80 rather than length 30 and retrain your model. Did it improve the performance?"
   ]
  },
  {
   "cell_type": "code",
   "execution_count": 47,
   "metadata": {},
   "outputs": [
    {
     "name": "stdout",
     "output_type": "stream",
     "text": [
      "--- 0.11217284202575684 seconds ---\n"
     ]
    }
   ],
   "source": [
    "import time\n",
    "start_time = time.time()\n",
    "\n",
    "x_train = sequence.pad_sequences(x_train, maxlen=80)\n",
    "x_test = sequence.pad_sequences(x_test, maxlen=80)\n",
    "\n",
    "print(\"--- %s seconds ---\" % (time.time() - start_time)) "
   ]
  },
  {
   "cell_type": "code",
   "execution_count": 48,
   "metadata": {},
   "outputs": [
    {
     "name": "stdout",
     "output_type": "stream",
     "text": [
      "x_train shape: (25000, 80)\n",
      "x_test shape: (25000, 80)\n"
     ]
    }
   ],
   "source": [
    "print('x_train shape:', x_train.shape)\n",
    "print('x_test shape:', x_test.shape)"
   ]
  },
  {
   "cell_type": "code",
   "execution_count": 49,
   "metadata": {},
   "outputs": [
    {
     "name": "stdout",
     "output_type": "stream",
     "text": [
      "INFO:tensorflow:Using MirroredStrategy with devices ('/job:localhost/replica:0/task:0/device:GPU:0',)\n"
     ]
    }
   ],
   "source": [
    "tf.debugging.set_log_device_placement(True)\n",
    "gpus = tf.config.list_logical_devices('GPU')\n",
    "strategy = tf.distribute.MirroredStrategy(gpus)\n",
    "with strategy.scope():\n",
    "    def simple_rnn2():\n",
    "        model = Sequential()\n",
    "        model.add(Embedding(max_features_words, 50, input_shape=(x_train.shape[1],))) \n",
    "        model.add(SimpleRNN(5,  kernel_initializer=initializers.RandomNormal(stddev=0.001)))\n",
    "        model.add(Dense(1, activation='sigmoid')) ##### Dense 1 == output class\n",
    "        model.summary()\n",
    "        return model"
   ]
  },
  {
   "cell_type": "code",
   "execution_count": 50,
   "metadata": {},
   "outputs": [
    {
     "name": "stdout",
     "output_type": "stream",
     "text": [
      "Model: \"sequential_2\"\n",
      "_________________________________________________________________\n",
      "Layer (type)                 Output Shape              Param #   \n",
      "=================================================================\n",
      "embedding_2 (Embedding)      (None, 80, 50)            1000000   \n",
      "_________________________________________________________________\n",
      "simple_rnn_2 (SimpleRNN)     (None, 5)                 280       \n",
      "_________________________________________________________________\n",
      "dense_2 (Dense)              (None, 1)                 6         \n",
      "=================================================================\n",
      "Total params: 1,000,286\n",
      "Trainable params: 1,000,286\n",
      "Non-trainable params: 0\n",
      "_________________________________________________________________\n"
     ]
    }
   ],
   "source": [
    "model2 = simple_rnn2()"
   ]
  },
  {
   "cell_type": "code",
   "execution_count": 51,
   "metadata": {},
   "outputs": [
    {
     "name": "stdout",
     "output_type": "stream",
     "text": [
      "Model: \"sequential_2\"\n",
      "_________________________________________________________________\n",
      "Layer (type)                 Output Shape              Param #   \n",
      "=================================================================\n",
      "embedding_2 (Embedding)      (None, 80, 50)            1000000   \n",
      "_________________________________________________________________\n",
      "simple_rnn_2 (SimpleRNN)     (None, 5)                 280       \n",
      "_________________________________________________________________\n",
      "dense_2 (Dense)              (None, 1)                 6         \n",
      "=================================================================\n",
      "Total params: 1,000,286\n",
      "Trainable params: 1,000,286\n",
      "Non-trainable params: 0\n",
      "_________________________________________________________________\n"
     ]
    }
   ],
   "source": [
    "##### Compile model \n",
    "\n",
    "model2.compile(optimizer = optimizers.RMSprop(lr = .0001), \n",
    "             loss='binary_crossentropy',\n",
    "              metrics=METRICS )\n",
    "\n",
    "model2.summary()"
   ]
  },
  {
   "cell_type": "code",
   "execution_count": 52,
   "metadata": {},
   "outputs": [
    {
     "name": "stdout",
     "output_type": "stream",
     "text": [
      "Epoch 1/10\n",
      "625/625 [==============================] - 20s 31ms/step - loss: 0.6919 - acc: 0.7061 - precision: 0.6959 - recall: 0.7379 - val_loss: 0.6685 - val_acc: 0.6872 - val_precision: 0.7003 - val_recall: 0.6407\n",
      "Epoch 2/10\n",
      "625/625 [==============================] - 19s 31ms/step - loss: 0.6552 - acc: 0.6541 - precision: 0.6529 - recall: 0.6601 - val_loss: 0.6270 - val_acc: 0.6674 - val_precision: 0.6136 - val_recall: 0.8817\n",
      "Epoch 3/10\n",
      "625/625 [==============================] - 19s 30ms/step - loss: 0.6074 - acc: 0.7043 - precision: 0.7017 - recall: 0.7153 - val_loss: 0.5884 - val_acc: 0.7082 - val_precision: 0.6678 - val_recall: 0.8141\n",
      "Epoch 4/10\n",
      "625/625 [==============================] - 19s 30ms/step - loss: 0.5657 - acc: 0.7359 - precision: 0.7371 - recall: 0.7320 - val_loss: 0.5581 - val_acc: 0.7342 - val_precision: 0.7102 - val_recall: 0.7801\n",
      "Epoch 5/10\n",
      "625/625 [==============================] - 19s 30ms/step - loss: 0.5325 - acc: 0.7614 - precision: 0.7647 - recall: 0.7611 - val_loss: 0.5351 - val_acc: 0.7460 - val_precision: 0.7187 - val_recall: 0.7979\n",
      "Epoch 6/10\n",
      "625/625 [==============================] - 19s 30ms/step - loss: 0.5057 - acc: 0.7751 - precision: 0.7751 - recall: 0.7725 - val_loss: 0.5144 - val_acc: 0.7604 - val_precision: 0.7462 - val_recall: 0.7801\n",
      "Epoch 7/10\n",
      "625/625 [==============================] - 19s 30ms/step - loss: 0.4774 - acc: 0.7907 - precision: 0.7970 - recall: 0.7831 - val_loss: 0.5045 - val_acc: 0.7566 - val_precision: 0.7217 - val_recall: 0.8254\n",
      "Epoch 8/10\n",
      "625/625 [==============================] - 19s 30ms/step - loss: 0.4498 - acc: 0.8138 - precision: 0.8169 - recall: 0.8124 - val_loss: 0.4918 - val_acc: 0.7676 - val_precision: 0.8125 - val_recall: 0.6881\n",
      "Epoch 9/10\n",
      "625/625 [==============================] - 19s 30ms/step - loss: 0.4328 - acc: 0.8155 - precision: 0.8235 - recall: 0.8060 - val_loss: 0.4778 - val_acc: 0.7736 - val_precision: 0.7794 - val_recall: 0.7554\n",
      "Epoch 10/10\n",
      "625/625 [==============================] - 19s 30ms/step - loss: 0.4189 - acc: 0.8183 - precision: 0.8274 - recall: 0.8071 - val_loss: 0.4738 - val_acc: 0.7736 - val_precision: 0.7654 - val_recall: 0.7809\n",
      "191.38301873207092\n"
     ]
    }
   ],
   "source": [
    "import time\n",
    "\n",
    "start = time.time()\n",
    "\n",
    "# train model\n",
    "history1 = model2.fit(x_train, y_train,\n",
    "                    epochs=10,\n",
    "                    validation_split=0.2)\n",
    "\n",
    "end = time.time()\n",
    "\n",
    "print(end - start)"
   ]
  },
  {
   "cell_type": "code",
   "execution_count": 53,
   "metadata": {},
   "outputs": [
    {
     "name": "stdout",
     "output_type": "stream",
     "text": [
      "Training Accuracy model2 is:  0.82\n"
     ]
    }
   ],
   "source": [
    "print(\"Training Accuracy model2 is: \",format(history1.history['acc'][-1],\".2f\"))"
   ]
  },
  {
   "cell_type": "code",
   "execution_count": 54,
   "metadata": {},
   "outputs": [
    {
     "name": "stdout",
     "output_type": "stream",
     "text": [
      "Validation Accuracy model2 is:  0.77\n"
     ]
    }
   ],
   "source": [
    "print(\"Validation Accuracy model2 is: \",format(history1.history['val_acc'][-1],\".2f\"))"
   ]
  },
  {
   "cell_type": "code",
   "execution_count": 55,
   "metadata": {},
   "outputs": [
    {
     "name": "stdout",
     "output_type": "stream",
     "text": [
      "Training loss model2 is:  0.41\n"
     ]
    }
   ],
   "source": [
    "print(\"Training loss model2 is: \",format(history1.history['loss'][-1],\".2f\"))"
   ]
  },
  {
   "cell_type": "code",
   "execution_count": 56,
   "metadata": {},
   "outputs": [
    {
     "name": "stdout",
     "output_type": "stream",
     "text": [
      "Validation loss model2 is:  0.47\n"
     ]
    }
   ],
   "source": [
    "print(\"Validation loss model2 is: \",format(history1.history['val_loss'][-1],\".2f\"))"
   ]
  },
  {
   "cell_type": "code",
   "execution_count": 57,
   "metadata": {},
   "outputs": [
    {
     "name": "stdout",
     "output_type": "stream",
     "text": [
      "782/782 [==============================] - 6s 7ms/step - loss: 0.4635 - acc: 0.7838 - precision: 0.7808 - recall: 0.7890\n"
     ]
    }
   ],
   "source": [
    "score2 = model2.evaluate(x_test,y_test)\n"
   ]
  },
  {
   "cell_type": "code",
   "execution_count": 58,
   "metadata": {},
   "outputs": [
    {
     "name": "stdout",
     "output_type": "stream",
     "text": [
      "loss in test set: 46.350690722465515\n"
     ]
    }
   ],
   "source": [
    "print(\"loss in test set:\", score2[0]*100)"
   ]
  },
  {
   "cell_type": "code",
   "execution_count": 61,
   "metadata": {
    "scrolled": true
   },
   "outputs": [
    {
     "name": "stdout",
     "output_type": "stream",
     "text": [
      "Accuracy in test set: 78.37600111961365\n"
     ]
    }
   ],
   "source": [
    "print(\"Accuracy in test set:\", score2[1]*100)"
   ]
  },
  {
   "cell_type": "markdown",
   "metadata": {},
   "source": [
    "##### Model2 with sequences of length 80 did improve our Accuracy in test set to 78.37 vs 77.12 (simple rnn maxlen=30)"
   ]
  },
  {
   "cell_type": "markdown",
   "metadata": {},
   "source": [
    "12- Try different values of the maximum length of a sequence (\"max_features\"). Can you improve the performance?"
   ]
  },
  {
   "cell_type": "code",
   "execution_count": null,
   "metadata": {},
   "outputs": [],
   "source": [
    "#### maxlen=150"
   ]
  },
  {
   "cell_type": "code",
   "execution_count": 62,
   "metadata": {},
   "outputs": [
    {
     "name": "stdout",
     "output_type": "stream",
     "text": [
      "--- 0.11661529541015625 seconds ---\n",
      "x_train shape: (25000, 150)\n",
      "x_test shape: (25000, 150)\n"
     ]
    }
   ],
   "source": [
    "import time\n",
    "start_time = time.time()\n",
    "\n",
    "x_train = sequence.pad_sequences(x_train, maxlen=150)\n",
    "x_test = sequence.pad_sequences(x_test, maxlen=150)\n",
    "\n",
    "print(\"--- %s seconds ---\" % (time.time() - start_time)) \n",
    "\n",
    "\n",
    "\n",
    "print('x_train shape:', x_train.shape)\n",
    "print('x_test shape:', x_test.shape)\n"
   ]
  },
  {
   "cell_type": "code",
   "execution_count": 63,
   "metadata": {},
   "outputs": [
    {
     "name": "stdout",
     "output_type": "stream",
     "text": [
      "INFO:tensorflow:Using MirroredStrategy with devices ('/job:localhost/replica:0/task:0/device:GPU:0',)\n"
     ]
    }
   ],
   "source": [
    "\n",
    "tf.debugging.set_log_device_placement(True)\n",
    "gpus = tf.config.list_logical_devices('GPU')\n",
    "strategy = tf.distribute.MirroredStrategy(gpus)\n",
    "with strategy.scope():\n",
    "    def simple_rnn3():\n",
    "        model = Sequential()\n",
    "        model.add(Embedding(max_features_words, 50, input_shape=(x_train.shape[1],))) \n",
    "        model.add(SimpleRNN(5,  kernel_initializer=initializers.RandomNormal(stddev=0.001)))\n",
    "        model.add(Dense(1, activation='sigmoid')) ##### Dense 1 == output class\n",
    "        model.summary()\n",
    "        return model\n"
   ]
  },
  {
   "cell_type": "code",
   "execution_count": 64,
   "metadata": {},
   "outputs": [
    {
     "name": "stdout",
     "output_type": "stream",
     "text": [
      "Model: \"sequential_3\"\n",
      "_________________________________________________________________\n",
      "Layer (type)                 Output Shape              Param #   \n",
      "=================================================================\n",
      "embedding_3 (Embedding)      (None, 150, 50)           1000000   \n",
      "_________________________________________________________________\n",
      "simple_rnn_3 (SimpleRNN)     (None, 5)                 280       \n",
      "_________________________________________________________________\n",
      "dense_3 (Dense)              (None, 1)                 6         \n",
      "=================================================================\n",
      "Total params: 1,000,286\n",
      "Trainable params: 1,000,286\n",
      "Non-trainable params: 0\n",
      "_________________________________________________________________\n"
     ]
    }
   ],
   "source": [
    "model3 = simple_rnn3()"
   ]
  },
  {
   "cell_type": "code",
   "execution_count": 65,
   "metadata": {},
   "outputs": [
    {
     "name": "stdout",
     "output_type": "stream",
     "text": [
      "Model: \"sequential_3\"\n",
      "_________________________________________________________________\n",
      "Layer (type)                 Output Shape              Param #   \n",
      "=================================================================\n",
      "embedding_3 (Embedding)      (None, 150, 50)           1000000   \n",
      "_________________________________________________________________\n",
      "simple_rnn_3 (SimpleRNN)     (None, 5)                 280       \n",
      "_________________________________________________________________\n",
      "dense_3 (Dense)              (None, 1)                 6         \n",
      "=================================================================\n",
      "Total params: 1,000,286\n",
      "Trainable params: 1,000,286\n",
      "Non-trainable params: 0\n",
      "_________________________________________________________________\n"
     ]
    }
   ],
   "source": [
    "\n",
    "##### Compile model \n",
    "\n",
    "model3.compile(optimizer = optimizers.RMSprop(lr = .0001), \n",
    "             loss='binary_crossentropy',\n",
    "              metrics=METRICS )\n",
    "\n",
    "model3.summary()"
   ]
  },
  {
   "cell_type": "code",
   "execution_count": 66,
   "metadata": {},
   "outputs": [
    {
     "name": "stdout",
     "output_type": "stream",
     "text": [
      "Epoch 1/10\n",
      "625/625 [==============================] - 35s 55ms/step - loss: 0.6931 - acc: 0.7106 - precision: 0.6813 - recall: 0.8078 - val_loss: 0.6929 - val_acc: 0.5178 - val_precision: 0.5163 - val_recall: 0.3726\n",
      "Epoch 2/10\n",
      "625/625 [==============================] - 34s 54ms/step - loss: 0.6919 - acc: 0.5563 - precision: 0.5588 - recall: 0.5892 - val_loss: 0.6922 - val_acc: 0.5228 - val_precision: 0.5198 - val_recall: 0.4419\n",
      "Epoch 3/10\n",
      "625/625 [==============================] - 34s 54ms/step - loss: 0.6877 - acc: 0.5795 - precision: 0.5786 - recall: 0.6087 - val_loss: 0.6917 - val_acc: 0.5198 - val_precision: 0.5295 - val_recall: 0.2471\n",
      "Epoch 4/10\n",
      "625/625 [==============================] - 34s 54ms/step - loss: 0.6792 - acc: 0.5948 - precision: 0.6075 - recall: 0.5331 - val_loss: 0.6912 - val_acc: 0.5264 - val_precision: 0.5184 - val_recall: 0.5751\n",
      "Epoch 5/10\n",
      "625/625 [==============================] - 34s 55ms/step - loss: 0.6688 - acc: 0.6189 - precision: 0.6175 - recall: 0.6382 - val_loss: 0.6912 - val_acc: 0.5296 - val_precision: 0.5244 - val_recall: 0.5083\n",
      "Epoch 6/10\n",
      "625/625 [==============================] - 34s 54ms/step - loss: 0.6575 - acc: 0.6401 - precision: 0.6403 - recall: 0.6456 - val_loss: 0.6955 - val_acc: 0.5226 - val_precision: 0.5114 - val_recall: 0.7452\n",
      "Epoch 7/10\n",
      "625/625 [==============================] - 34s 54ms/step - loss: 0.6439 - acc: 0.6617 - precision: 0.6597 - recall: 0.6754 - val_loss: 0.6948 - val_acc: 0.5240 - val_precision: 0.5292 - val_recall: 0.3264\n",
      "Epoch 8/10\n",
      "625/625 [==============================] - 34s 55ms/step - loss: 0.6297 - acc: 0.6819 - precision: 0.6853 - recall: 0.6730 - val_loss: 0.6970 - val_acc: 0.5296 - val_precision: 0.5357 - val_recall: 0.3552\n",
      "Epoch 9/10\n",
      "625/625 [==============================] - 34s 54ms/step - loss: 0.6159 - acc: 0.6915 - precision: 0.6948 - recall: 0.6876 - val_loss: 0.6968 - val_acc: 0.5318 - val_precision: 0.5247 - val_recall: 0.5500\n",
      "Epoch 10/10\n",
      "625/625 [==============================] - 34s 55ms/step - loss: 0.6028 - acc: 0.7017 - precision: 0.7011 - recall: 0.7082 - val_loss: 0.7006 - val_acc: 0.5324 - val_precision: 0.5329 - val_recall: 0.4293\n",
      "341.2175304889679\n"
     ]
    }
   ],
   "source": [
    "import time\n",
    "\n",
    "start = time.time()\n",
    "\n",
    "# train model\n",
    "history2 = model3.fit(x_train, y_train,\n",
    "                    epochs=10,\n",
    "                    validation_split=0.2)\n",
    "\n",
    "end = time.time()\n",
    "\n",
    "print(end - start)"
   ]
  },
  {
   "cell_type": "code",
   "execution_count": 67,
   "metadata": {},
   "outputs": [
    {
     "name": "stdout",
     "output_type": "stream",
     "text": [
      "Training Accuracy model3 is:  0.70\n",
      "Validation Accuracy model3 is:  0.53\n",
      "Training loss model3 is:  0.60\n",
      "Validation loss model3 is:  0.70\n"
     ]
    }
   ],
   "source": [
    "\n",
    "print(\"Training Accuracy model3 is: \",format(history2.history['acc'][-1],\".2f\"))\n",
    "\n",
    "\n",
    "\n",
    "print(\"Validation Accuracy model3 is: \",format(history2.history['val_acc'][-1],\".2f\"))\n",
    "\n",
    "\n",
    "\n",
    "\n",
    "print(\"Training loss model3 is: \",format(history2.history['loss'][-1],\".2f\"))\n",
    "\n",
    "\n",
    "\n",
    "\n",
    "print(\"Validation loss model3 is: \",format(history2.history['val_loss'][-1],\".2f\"))\n"
   ]
  },
  {
   "cell_type": "code",
   "execution_count": 69,
   "metadata": {},
   "outputs": [
    {
     "name": "stdout",
     "output_type": "stream",
     "text": [
      "782/782 [==============================] - 9s 11ms/step - loss: 0.7053 - acc: 0.5285 - precision: 0.5367 - recall: 0.4170\n"
     ]
    }
   ],
   "source": [
    "\n",
    "score3 = model3.evaluate(x_test,y_test)"
   ]
  },
  {
   "cell_type": "code",
   "execution_count": 71,
   "metadata": {},
   "outputs": [
    {
     "name": "stdout",
     "output_type": "stream",
     "text": [
      "loss in test set: 70.5255925655365\n",
      "Accuracy in test set: 52.851998805999756\n"
     ]
    }
   ],
   "source": [
    "print(\"loss in test set:\", score3[0]*100)\n",
    "\n",
    "\n",
    "print(\"Accuracy in test set:\", score3[1]*100)"
   ]
  },
  {
   "cell_type": "markdown",
   "metadata": {},
   "source": [
    "##### Model3 with sequences of length 150 did not improve our Accuracy in test set as we can observed above vs first two models 78.37 vs 77.12\n",
    "##### training time also increased to : 341.21 sec because of the max len of the reviews"
   ]
  },
  {
   "cell_type": "markdown",
   "metadata": {},
   "source": [
    "###### maxlen= 500"
   ]
  },
  {
   "cell_type": "code",
   "execution_count": 94,
   "metadata": {},
   "outputs": [
    {
     "name": "stdout",
     "output_type": "stream",
     "text": [
      "--- 0.9704670906066895 seconds ---\n"
     ]
    }
   ],
   "source": [
    "import time\n",
    "start_time = time.time()\n",
    "\n",
    "x_train = sequence.pad_sequences(x_train, maxlen=500)\n",
    "x_test = sequence.pad_sequences(x_test, maxlen=500)\n",
    "\n",
    "print(\"--- %s seconds ---\" % (time.time() - start_time)) "
   ]
  },
  {
   "cell_type": "code",
   "execution_count": 95,
   "metadata": {},
   "outputs": [
    {
     "name": "stdout",
     "output_type": "stream",
     "text": [
      "x_train shape: (25000, 500)\n",
      "x_test shape: (25000, 500)\n"
     ]
    }
   ],
   "source": [
    "\n",
    "print('x_train shape:', x_train.shape)\n",
    "print('x_test shape:', x_test.shape)\n"
   ]
  },
  {
   "cell_type": "code",
   "execution_count": 96,
   "metadata": {},
   "outputs": [
    {
     "name": "stdout",
     "output_type": "stream",
     "text": [
      "INFO:tensorflow:Using MirroredStrategy with devices ('/job:localhost/replica:0/task:0/device:GPU:0',)\n",
      "Model: \"sequential_4\"\n",
      "_________________________________________________________________\n",
      "Layer (type)                 Output Shape              Param #   \n",
      "=================================================================\n",
      "embedding_4 (Embedding)      (None, 500, 50)           1000000   \n",
      "_________________________________________________________________\n",
      "simple_rnn_4 (SimpleRNN)     (None, 5)                 280       \n",
      "_________________________________________________________________\n",
      "dense_4 (Dense)              (None, 1)                 6         \n",
      "=================================================================\n",
      "Total params: 1,000,286\n",
      "Trainable params: 1,000,286\n",
      "Non-trainable params: 0\n",
      "_________________________________________________________________\n"
     ]
    }
   ],
   "source": [
    "tf.debugging.set_log_device_placement(True)\n",
    "gpus = tf.config.list_logical_devices('GPU')\n",
    "strategy = tf.distribute.MirroredStrategy(gpus)\n",
    "with strategy.scope():\n",
    "    def simple_rnn4():\n",
    "        model = Sequential()\n",
    "        model.add(Embedding(max_features_words, 50, input_shape=(x_train.shape[1],))) \n",
    "        model.add(SimpleRNN(5,  kernel_initializer=initializers.RandomNormal(stddev=0.001)))\n",
    "        model.add(Dense(1, activation='sigmoid')) ##### Dense 1 == output class\n",
    "        model.summary()\n",
    "        return model\n",
    "    \n",
    "model4 = simple_rnn4()"
   ]
  },
  {
   "cell_type": "code",
   "execution_count": 98,
   "metadata": {},
   "outputs": [
    {
     "name": "stdout",
     "output_type": "stream",
     "text": [
      "Model: \"sequential_4\"\n",
      "_________________________________________________________________\n",
      "Layer (type)                 Output Shape              Param #   \n",
      "=================================================================\n",
      "embedding_4 (Embedding)      (None, 500, 50)           1000000   \n",
      "_________________________________________________________________\n",
      "simple_rnn_4 (SimpleRNN)     (None, 5)                 280       \n",
      "_________________________________________________________________\n",
      "dense_4 (Dense)              (None, 1)                 6         \n",
      "=================================================================\n",
      "Total params: 1,000,286\n",
      "Trainable params: 1,000,286\n",
      "Non-trainable params: 0\n",
      "_________________________________________________________________\n"
     ]
    }
   ],
   "source": [
    "##### Compile model \n",
    "\n",
    "model4.compile(optimizer = optimizers.RMSprop(lr = .0001), \n",
    "             loss='binary_crossentropy',\n",
    "              metrics=METRICS )\n",
    "\n",
    "model4.summary()\n"
   ]
  },
  {
   "cell_type": "code",
   "execution_count": null,
   "metadata": {},
   "outputs": [
    {
     "name": "stdout",
     "output_type": "stream",
     "text": [
      "Epoch 1/10\n",
      "625/625 [==============================] - 113s 180ms/step - loss: 0.6932 - acc: 0.5203 - precision: 0.5252 - recall: 0.4311 - val_loss: 0.6933 - val_acc: 0.4942 - val_precision: 0.4897 - val_recall: 0.5804\n",
      "Epoch 2/10\n",
      "625/625 [==============================] - 112s 179ms/step - loss: 0.6894 - acc: 0.5562 - precision: 0.5651 - recall: 0.4789 - val_loss: 0.6954 - val_acc: 0.4958 - val_precision: 0.4923 - val_recall: 0.6768\n",
      "Epoch 3/10\n",
      "625/625 [==============================] - 112s 179ms/step - loss: 0.6771 - acc: 0.5911 - precision: 0.5904 - recall: 0.6375 - val_loss: 0.7040 - val_acc: 0.5040 - val_precision: 0.4931 - val_recall: 0.1600\n",
      "Epoch 4/10\n",
      "625/625 [==============================] - 112s 180ms/step - loss: 0.6586 - acc: 0.6386 - precision: 0.6501 - recall: 0.6032 - val_loss: 0.7026 - val_acc: 0.4904 - val_precision: 0.4700 - val_recall: 0.2503\n",
      "Epoch 5/10\n",
      "625/625 [==============================] - 112s 179ms/step - loss: 0.6387 - acc: 0.6864 - precision: 0.6917 - recall: 0.6770 - val_loss: 0.7033 - val_acc: 0.4902 - val_precision: 0.4747 - val_recall: 0.3034\n",
      "Epoch 6/10\n",
      "625/625 [==============================] - 112s 179ms/step - loss: 0.6230 - acc: 0.7145 - precision: 0.7135 - recall: 0.7224 - val_loss: 0.7048 - val_acc: 0.4982 - val_precision: 0.4917 - val_recall: 0.4812\n",
      "Epoch 7/10\n",
      "625/625 [==============================] - 112s 179ms/step - loss: 0.6034 - acc: 0.7481 - precision: 0.7471 - recall: 0.7469 - val_loss: 0.7082 - val_acc: 0.4966 - val_precision: 0.4866 - val_recall: 0.3536\n",
      "Epoch 8/10\n",
      "625/625 [==============================] - 112s 179ms/step - loss: 0.5829 - acc: 0.7738 - precision: 0.7741 - recall: 0.7796 - val_loss: 0.7150 - val_acc: 0.4960 - val_precision: 0.4794 - val_recall: 0.2406\n",
      "Epoch 9/10\n",
      "625/625 [==============================] - 112s 179ms/step - loss: 0.5697 - acc: 0.7860 - precision: 0.7854 - recall: 0.7944 - val_loss: 0.7109 - val_acc: 0.5104 - val_precision: 0.5034 - val_recall: 0.6225\n",
      "Epoch 10/10\n",
      "625/625 [==============================] - 112s 180ms/step - loss: 0.5507 - acc: 0.8093 - precision: 0.8052 - recall: 0.8184 - val_loss: 0.7203 - val_acc: 0.4966 - val_precision: 0.4933 - val_recall: 0.7112\n",
      "1121.798044681549\n"
     ]
    }
   ],
   "source": [
    "import time\n",
    "\n",
    "start = time.time()\n",
    "\n",
    "# train model\n",
    "history4 = model4.fit(x_train, y_train,\n",
    "                    epochs=10,\n",
    "                    validation_split=0.2)\n",
    "\n",
    "end = time.time()\n",
    "\n",
    "print(end - start)"
   ]
  },
  {
   "cell_type": "code",
   "execution_count": null,
   "metadata": {},
   "outputs": [],
   "source": [
    "##### evaluation training / test set results model maxlenght = 500"
   ]
  },
  {
   "cell_type": "code",
   "execution_count": 100,
   "metadata": {},
   "outputs": [
    {
     "name": "stdout",
     "output_type": "stream",
     "text": [
      "Training Accuracy model4 is:  0.80\n",
      "Validation Accuracy model4 is:  0.50\n",
      "Training loss model4 is:  0.55\n",
      "Validation loss model4 is:  0.72\n",
      "782/782 [==============================] - 25s 32ms/step - loss: 0.7157 - acc: 0.5063 - precision: 0.5044 - recall: 0.7326\n",
      "loss in test set: 71.56530618667603\n",
      "Accuracy in test set: 50.63199996948242\n"
     ]
    }
   ],
   "source": [
    "\n",
    "print(\"Training Accuracy model4 is: \",format(history4.history['acc'][-1],\".2f\"))\n",
    "\n",
    "\n",
    "\n",
    "\n",
    "print(\"Validation Accuracy model4 is: \",format(history4.history['val_acc'][-1],\".2f\"))\n",
    "\n",
    "\n",
    "\n",
    "\n",
    "\n",
    "print(\"Training loss model4 is: \",format(history4.history['loss'][-1],\".2f\"))\n",
    "\n",
    "\n",
    "\n",
    "\n",
    "\n",
    "print(\"Validation loss model4 is: \",format(history4.history['val_loss'][-1],\".2f\"))\n",
    "\n",
    "\n",
    "\n",
    "\n",
    "\n",
    "score4 = model4.evaluate(x_test,y_test)\n",
    "\n",
    "\n",
    "\n",
    "\n",
    "print(\"loss in test set:\", score4[0]*100)\n",
    "\n",
    "\n",
    "\n",
    "\n",
    "print(\"Accuracy in test set:\", score4[1]*100)"
   ]
  },
  {
   "cell_type": "markdown",
   "metadata": {},
   "source": [
    "###### Model4 with sequences of length 500 did not improve our Accuracy in test set as we can observed above (test acc =50.63) vs first two models 78.37 vs 77.12\n",
    "\n",
    "###### training time also increased to : 1121.79 sec because of the max len of the reviews"
   ]
  },
  {
   "cell_type": "markdown",
   "metadata": {},
   "source": [
    "13- Try smaller and larger sizes of the RNN hidden dimension. How does it affect the model performance? How does it affect the run time?"
   ]
  },
  {
   "cell_type": "markdown",
   "metadata": {},
   "source": [
    "###### larger size of the RNN hidden dimension and maxlen=80"
   ]
  },
  {
   "cell_type": "markdown",
   "metadata": {},
   "source": [
    "##### RNN hidden = 16"
   ]
  },
  {
   "cell_type": "code",
   "execution_count": 20,
   "metadata": {},
   "outputs": [
    {
     "name": "stdout",
     "output_type": "stream",
     "text": [
      "--- 0.11385774612426758 seconds ---\n"
     ]
    }
   ],
   "source": [
    "import time\n",
    "start_time = time.time()\n",
    "\n",
    "x_train = sequence.pad_sequences(x_train, maxlen=80)\n",
    "x_test = sequence.pad_sequences(x_test, maxlen=80)\n",
    "\n",
    "print(\"--- %s seconds ---\" % (time.time() - start_time)) "
   ]
  },
  {
   "cell_type": "code",
   "execution_count": 21,
   "metadata": {},
   "outputs": [
    {
     "name": "stdout",
     "output_type": "stream",
     "text": [
      "x_train shape: (25000, 80)\n",
      "x_test shape: (25000, 80)\n"
     ]
    }
   ],
   "source": [
    "print('x_train shape:', x_train.shape)\n",
    "print('x_test shape:', x_test.shape)"
   ]
  },
  {
   "cell_type": "code",
   "execution_count": 22,
   "metadata": {},
   "outputs": [
    {
     "name": "stdout",
     "output_type": "stream",
     "text": [
      "INFO:tensorflow:Using MirroredStrategy with devices ('/job:localhost/replica:0/task:0/device:GPU:0',)\n",
      "Model: \"sequential_2\"\n",
      "_________________________________________________________________\n",
      "Layer (type)                 Output Shape              Param #   \n",
      "=================================================================\n",
      "embedding_2 (Embedding)      (None, 80, 50)            1000000   \n",
      "_________________________________________________________________\n",
      "simple_rnn_2 (SimpleRNN)     (None, 16)                1072      \n",
      "_________________________________________________________________\n",
      "dense_2 (Dense)              (None, 1)                 17        \n",
      "=================================================================\n",
      "Total params: 1,001,089\n",
      "Trainable params: 1,001,089\n",
      "Non-trainable params: 0\n",
      "_________________________________________________________________\n"
     ]
    }
   ],
   "source": [
    "tf.debugging.set_log_device_placement(True)\n",
    "gpus = tf.config.list_logical_devices('GPU')\n",
    "strategy = tf.distribute.MirroredStrategy(gpus)\n",
    "with strategy.scope():\n",
    "    def simple_rnn_larger16():\n",
    "        model = Sequential()\n",
    "        model.add(Embedding(max_features_words, 50, input_shape=(x_train.shape[1],))) \n",
    "        model.add(SimpleRNN(16,  kernel_initializer=initializers.RandomNormal(stddev=0.001)))\n",
    "        model.add(Dense(1, activation='sigmoid')) ##### Dense 1 == output class\n",
    "        model.summary()\n",
    "        return model\n",
    "\n",
    "\n",
    "# In[50]:\n",
    "\n",
    "\n",
    "model5 = simple_rnn_larger16()"
   ]
  },
  {
   "cell_type": "code",
   "execution_count": 23,
   "metadata": {},
   "outputs": [
    {
     "name": "stdout",
     "output_type": "stream",
     "text": [
      "Model: \"sequential_2\"\n",
      "_________________________________________________________________\n",
      "Layer (type)                 Output Shape              Param #   \n",
      "=================================================================\n",
      "embedding_2 (Embedding)      (None, 80, 50)            1000000   \n",
      "_________________________________________________________________\n",
      "simple_rnn_2 (SimpleRNN)     (None, 16)                1072      \n",
      "_________________________________________________________________\n",
      "dense_2 (Dense)              (None, 1)                 17        \n",
      "=================================================================\n",
      "Total params: 1,001,089\n",
      "Trainable params: 1,001,089\n",
      "Non-trainable params: 0\n",
      "_________________________________________________________________\n"
     ]
    }
   ],
   "source": [
    "##### Compile model rnn_larger16\n",
    "\n",
    "model5.compile(optimizer = optimizers.RMSprop(lr = .0001), \n",
    "             loss='binary_crossentropy',\n",
    "              metrics=METRICS )\n",
    "\n",
    "model5.summary()\n"
   ]
  },
  {
   "cell_type": "code",
   "execution_count": 24,
   "metadata": {},
   "outputs": [
    {
     "name": "stdout",
     "output_type": "stream",
     "text": [
      "Epoch 1/10\n",
      "625/625 [==============================] - 21s 32ms/step - loss: 0.6866 - acc: 0.5296 - precision: 0.5249 - recall: 0.7422 - val_loss: 0.6311 - val_acc: 0.6598 - val_precision: 0.6074 - val_recall: 0.8793\n",
      "Epoch 2/10\n",
      "625/625 [==============================] - 19s 31ms/step - loss: 0.5876 - acc: 0.7128 - precision: 0.7115 - recall: 0.7155 - val_loss: 0.5507 - val_acc: 0.7338 - val_precision: 0.7979 - val_recall: 0.6173\n",
      "Epoch 3/10\n",
      "625/625 [==============================] - 19s 31ms/step - loss: 0.4980 - acc: 0.7897 - precision: 0.7897 - recall: 0.7932 - val_loss: 0.4872 - val_acc: 0.7822 - val_precision: 0.8050 - val_recall: 0.7375\n",
      "Epoch 4/10\n",
      "625/625 [==============================] - 20s 32ms/step - loss: 0.4363 - acc: 0.8231 - precision: 0.8246 - recall: 0.8203 - val_loss: 0.4413 - val_acc: 0.8072 - val_precision: 0.8038 - val_recall: 0.8064\n",
      "Epoch 5/10\n",
      "625/625 [==============================] - 19s 31ms/step - loss: 0.3740 - acc: 0.8552 - precision: 0.8556 - recall: 0.8574 - val_loss: 0.4289 - val_acc: 0.8080 - val_precision: 0.8245 - val_recall: 0.7764\n",
      "Epoch 6/10\n",
      "625/625 [==============================] - 19s 31ms/step - loss: 0.3359 - acc: 0.8695 - precision: 0.8697 - recall: 0.8695 - val_loss: 0.4102 - val_acc: 0.8176 - val_precision: 0.7897 - val_recall: 0.8595\n",
      "Epoch 7/10\n",
      "625/625 [==============================] - 19s 31ms/step - loss: 0.3006 - acc: 0.8857 - precision: 0.8847 - recall: 0.8882 - val_loss: 0.4256 - val_acc: 0.8162 - val_precision: 0.8130 - val_recall: 0.8153\n",
      "Epoch 8/10\n",
      "625/625 [==============================] - 19s 31ms/step - loss: 0.2868 - acc: 0.8905 - precision: 0.8898 - recall: 0.8901 - val_loss: 0.4008 - val_acc: 0.8222 - val_precision: 0.8350 - val_recall: 0.7975\n",
      "Epoch 9/10\n",
      "625/625 [==============================] - 19s 31ms/step - loss: 0.2632 - acc: 0.9016 - precision: 0.9025 - recall: 0.8997 - val_loss: 0.3938 - val_acc: 0.8296 - val_precision: 0.8256 - val_recall: 0.8303\n",
      "Epoch 10/10\n",
      "625/625 [==============================] - 19s 31ms/step - loss: 0.2558 - acc: 0.9049 - precision: 0.9076 - recall: 0.9024 - val_loss: 0.3902 - val_acc: 0.8288 - val_precision: 0.8094 - val_recall: 0.8546\n",
      "195.73750495910645\n"
     ]
    }
   ],
   "source": [
    "\n",
    "import time\n",
    "\n",
    "start = time.time()\n",
    "\n",
    "# train model\n",
    "history5 = model5.fit(x_train, y_train,\n",
    "                    epochs=10,\n",
    "                    validation_split=0.2)\n",
    "\n",
    "end = time.time()\n",
    "\n",
    "print(end - start)\n"
   ]
  },
  {
   "cell_type": "code",
   "execution_count": 25,
   "metadata": {},
   "outputs": [
    {
     "data": {
      "text/html": [
       "<div>\n",
       "<style scoped>\n",
       "    .dataframe tbody tr th:only-of-type {\n",
       "        vertical-align: middle;\n",
       "    }\n",
       "\n",
       "    .dataframe tbody tr th {\n",
       "        vertical-align: top;\n",
       "    }\n",
       "\n",
       "    .dataframe thead th {\n",
       "        text-align: right;\n",
       "    }\n",
       "</style>\n",
       "<table border=\"1\" class=\"dataframe\">\n",
       "  <thead>\n",
       "    <tr style=\"text-align: right;\">\n",
       "      <th></th>\n",
       "      <th>loss</th>\n",
       "      <th>acc</th>\n",
       "      <th>precision</th>\n",
       "      <th>recall</th>\n",
       "      <th>val_loss</th>\n",
       "      <th>val_acc</th>\n",
       "      <th>val_precision</th>\n",
       "      <th>val_recall</th>\n",
       "    </tr>\n",
       "  </thead>\n",
       "  <tbody>\n",
       "    <tr>\n",
       "      <th>0</th>\n",
       "      <td>0.667873</td>\n",
       "      <td>0.58435</td>\n",
       "      <td>0.569532</td>\n",
       "      <td>0.701426</td>\n",
       "      <td>0.631086</td>\n",
       "      <td>0.6598</td>\n",
       "      <td>0.607443</td>\n",
       "      <td>0.879303</td>\n",
       "    </tr>\n",
       "    <tr>\n",
       "      <th>1</th>\n",
       "      <td>0.569608</td>\n",
       "      <td>0.72820</td>\n",
       "      <td>0.724650</td>\n",
       "      <td>0.738810</td>\n",
       "      <td>0.550730</td>\n",
       "      <td>0.7338</td>\n",
       "      <td>0.797906</td>\n",
       "      <td>0.617254</td>\n",
       "    </tr>\n",
       "    <tr>\n",
       "      <th>2</th>\n",
       "      <td>0.488974</td>\n",
       "      <td>0.79380</td>\n",
       "      <td>0.791186</td>\n",
       "      <td>0.800020</td>\n",
       "      <td>0.487240</td>\n",
       "      <td>0.7822</td>\n",
       "      <td>0.805040</td>\n",
       "      <td>0.737546</td>\n",
       "    </tr>\n",
       "    <tr>\n",
       "      <th>3</th>\n",
       "      <td>0.426806</td>\n",
       "      <td>0.82795</td>\n",
       "      <td>0.828974</td>\n",
       "      <td>0.827734</td>\n",
       "      <td>0.441279</td>\n",
       "      <td>0.8072</td>\n",
       "      <td>0.803795</td>\n",
       "      <td>0.806399</td>\n",
       "    </tr>\n",
       "    <tr>\n",
       "      <th>4</th>\n",
       "      <td>0.373222</td>\n",
       "      <td>0.85290</td>\n",
       "      <td>0.852511</td>\n",
       "      <td>0.854551</td>\n",
       "      <td>0.428867</td>\n",
       "      <td>0.8080</td>\n",
       "      <td>0.824516</td>\n",
       "      <td>0.776428</td>\n",
       "    </tr>\n",
       "    <tr>\n",
       "      <th>5</th>\n",
       "      <td>0.334622</td>\n",
       "      <td>0.86870</td>\n",
       "      <td>0.867713</td>\n",
       "      <td>0.871000</td>\n",
       "      <td>0.410244</td>\n",
       "      <td>0.8176</td>\n",
       "      <td>0.789728</td>\n",
       "      <td>0.859457</td>\n",
       "    </tr>\n",
       "    <tr>\n",
       "      <th>6</th>\n",
       "      <td>0.306946</td>\n",
       "      <td>0.87975</td>\n",
       "      <td>0.880159</td>\n",
       "      <td>0.880072</td>\n",
       "      <td>0.425624</td>\n",
       "      <td>0.8162</td>\n",
       "      <td>0.813005</td>\n",
       "      <td>0.815310</td>\n",
       "    </tr>\n",
       "    <tr>\n",
       "      <th>7</th>\n",
       "      <td>0.285178</td>\n",
       "      <td>0.88960</td>\n",
       "      <td>0.889553</td>\n",
       "      <td>0.890440</td>\n",
       "      <td>0.400804</td>\n",
       "      <td>0.8222</td>\n",
       "      <td>0.835030</td>\n",
       "      <td>0.797489</td>\n",
       "    </tr>\n",
       "    <tr>\n",
       "      <th>8</th>\n",
       "      <td>0.269240</td>\n",
       "      <td>0.89730</td>\n",
       "      <td>0.898571</td>\n",
       "      <td>0.896421</td>\n",
       "      <td>0.393778</td>\n",
       "      <td>0.8296</td>\n",
       "      <td>0.825614</td>\n",
       "      <td>0.830296</td>\n",
       "    </tr>\n",
       "    <tr>\n",
       "      <th>9</th>\n",
       "      <td>0.255432</td>\n",
       "      <td>0.90300</td>\n",
       "      <td>0.903944</td>\n",
       "      <td>0.902502</td>\n",
       "      <td>0.390172</td>\n",
       "      <td>0.8288</td>\n",
       "      <td>0.809359</td>\n",
       "      <td>0.854597</td>\n",
       "    </tr>\n",
       "  </tbody>\n",
       "</table>\n",
       "</div>"
      ],
      "text/plain": [
       "       loss      acc  precision    recall  val_loss  val_acc  val_precision  \\\n",
       "0  0.667873  0.58435   0.569532  0.701426  0.631086   0.6598       0.607443   \n",
       "1  0.569608  0.72820   0.724650  0.738810  0.550730   0.7338       0.797906   \n",
       "2  0.488974  0.79380   0.791186  0.800020  0.487240   0.7822       0.805040   \n",
       "3  0.426806  0.82795   0.828974  0.827734  0.441279   0.8072       0.803795   \n",
       "4  0.373222  0.85290   0.852511  0.854551  0.428867   0.8080       0.824516   \n",
       "5  0.334622  0.86870   0.867713  0.871000  0.410244   0.8176       0.789728   \n",
       "6  0.306946  0.87975   0.880159  0.880072  0.425624   0.8162       0.813005   \n",
       "7  0.285178  0.88960   0.889553  0.890440  0.400804   0.8222       0.835030   \n",
       "8  0.269240  0.89730   0.898571  0.896421  0.393778   0.8296       0.825614   \n",
       "9  0.255432  0.90300   0.903944  0.902502  0.390172   0.8288       0.809359   \n",
       "\n",
       "   val_recall  \n",
       "0    0.879303  \n",
       "1    0.617254  \n",
       "2    0.737546  \n",
       "3    0.806399  \n",
       "4    0.776428  \n",
       "5    0.859457  \n",
       "6    0.815310  \n",
       "7    0.797489  \n",
       "8    0.830296  \n",
       "9    0.854597  "
      ]
     },
     "metadata": {},
     "output_type": "display_data"
    }
   ],
   "source": [
    "from pandas import option_context\n",
    "\n",
    "with option_context('display.max_rows', 3000,'display.max_colwidth', 200,'display.max_columns',50):\n",
    "              display(pd.DataFrame(model5.history.history).head(20))"
   ]
  },
  {
   "cell_type": "code",
   "execution_count": 26,
   "metadata": {},
   "outputs": [
    {
     "data": {
      "image/png": "[encoded data removed]",
      "text/plain": [
       "<Figure size 576x396 with 1 Axes>"
      ]
     },
     "metadata": {},
     "output_type": "display_data"
    },
    {
     "data": {
      "image/png": "[encoded data removed]",
      "text/plain": [
       "<Figure size 576x396 with 1 Axes>"
      ]
     },
     "metadata": {},
     "output_type": "display_data"
    }
   ],
   "source": [
    "\n",
    "#### Plot training & validation accuracy values\n",
    "figsize = (25, 12)\n",
    "plt.style.use(\"ggplot\")\n",
    "plt.rcParams['axes.facecolor']='white'\n",
    "epochs = range(1, (len(model5.history.history['acc']) + 1))\n",
    "plt.plot(epochs,model5.history.history['acc'])\n",
    "plt.plot(epochs,model5.history.history['val_acc'])\n",
    "plt.title('Model simple_rnn_larger16 accuracy')\n",
    "plt.ylabel('Accuracy')\n",
    "plt.xlabel('Epoch')\n",
    "plt.legend(['Training Accuracy', 'Validation Accuracy'], loc='upper left')\n",
    "plt.show()\n",
    "\n",
    "#### Plot training & validation loss values\n",
    "plt.plot(epochs,model5.history.history['loss'])\n",
    "plt.plot(epochs,model5.history.history['val_loss'])\n",
    "plt.title('Model simple_rnn_larger16 Model loss')\n",
    "plt.ylabel('Loss')\n",
    "plt.xlabel('Epoch')\n",
    "plt.legend(['Training Loss', 'Validation Loss'], loc='lower right')\n",
    "plt.show()"
   ]
  },
  {
   "cell_type": "markdown",
   "metadata": {},
   "source": [
    "##### In terms of training time it almost double in comparision with first simple rnn  5 neurons\n",
    "##### total training time was :195.73 sec"
   ]
  },
  {
   "cell_type": "code",
   "execution_count": 27,
   "metadata": {},
   "outputs": [],
   "source": [
    "##### evaluation training / test set results model SimpleRNN(16)"
   ]
  },
  {
   "cell_type": "code",
   "execution_count": 28,
   "metadata": {},
   "outputs": [
    {
     "name": "stdout",
     "output_type": "stream",
     "text": [
      "Training Accuracy modelSimpleRNN(16) is:  0.90\n",
      "Validation Accuracy modelSimpleRNN(16)is:  0.83\n",
      "Training loss modelSimpleRNN(16)is:  0.26\n",
      "Validation loss modelSimpleRNN(16)is:  0.39\n",
      "782/782 [==============================] - 6s 7ms/step - loss: 0.3989 - acc: 0.8250 - precision: 0.8124 - recall: 0.8452\n",
      "loss in test set: 39.8936003446579\n",
      "Accuracy in test set: 82.4999988079071\n"
     ]
    }
   ],
   "source": [
    "\n",
    "print(\"Training Accuracy modelSimpleRNN(16) is: \",format(history5.history['acc'][-1],\".2f\"))\n",
    "\n",
    "\n",
    "\n",
    "\n",
    "print(\"Validation Accuracy modelSimpleRNN(16)is: \",format(history5.history['val_acc'][-1],\".2f\"))\n",
    "\n",
    "\n",
    "\n",
    "\n",
    "\n",
    "print(\"Training loss modelSimpleRNN(16)is: \",format(history5.history['loss'][-1],\".2f\"))\n",
    "\n",
    "\n",
    "\n",
    "\n",
    "\n",
    "print(\"Validation loss modelSimpleRNN(16)is: \",format(history5.history['val_loss'][-1],\".2f\"))\n",
    "\n",
    "\n",
    "\n",
    "\n",
    "\n",
    "score5 = model5.evaluate(x_test,y_test)\n",
    "\n",
    "\n",
    "\n",
    "\n",
    "print(\"loss in test set:\", score5[0]*100)\n",
    "\n",
    "\n",
    "\n",
    "\n",
    "print(\"Accuracy in test set:\", score5[1]*100)"
   ]
  },
  {
   "cell_type": "markdown",
   "metadata": {},
   "source": [
    "###### Model5 SimpleRNN(16) with sequences of length 80 did improve our Accuracy in test set to 82.49 first two models 78.37 vs 77.12 (SimpleRNN layer with 5 neuron\n",
    "###### Training time increased"
   ]
  },
  {
   "cell_type": "markdown",
   "metadata": {},
   "source": [
    "######  smaller size of the RNN hidden dimension."
   ]
  },
  {
   "cell_type": "markdown",
   "metadata": {},
   "source": [
    "##### RNN hidden = 3"
   ]
  },
  {
   "cell_type": "code",
   "execution_count": 113,
   "metadata": {},
   "outputs": [
    {
     "name": "stdout",
     "output_type": "stream",
     "text": [
      "--- 0.11701583862304688 seconds ---\n",
      "x_train shape: (25000, 80)\n",
      "x_test shape: (25000, 80)\n"
     ]
    }
   ],
   "source": [
    "import time\n",
    "start_time = time.time()\n",
    "\n",
    "x_train = sequence.pad_sequences(x_train, maxlen=80)\n",
    "x_test = sequence.pad_sequences(x_test, maxlen=80)\n",
    "\n",
    "print(\"--- %s seconds ---\" % (time.time() - start_time)) \n",
    "\n",
    "print('x_train shape:', x_train.shape)\n",
    "print('x_test shape:', x_test.shape)\n"
   ]
  },
  {
   "cell_type": "code",
   "execution_count": 114,
   "metadata": {},
   "outputs": [
    {
     "name": "stdout",
     "output_type": "stream",
     "text": [
      "INFO:tensorflow:Using MirroredStrategy with devices ('/job:localhost/replica:0/task:0/device:GPU:0',)\n",
      "Model: \"sequential_6\"\n",
      "_________________________________________________________________\n",
      "Layer (type)                 Output Shape              Param #   \n",
      "=================================================================\n",
      "embedding_6 (Embedding)      (None, 80, 50)            1000000   \n",
      "_________________________________________________________________\n",
      "simple_rnn_6 (SimpleRNN)     (None, 3)                 162       \n",
      "_________________________________________________________________\n",
      "dense_6 (Dense)              (None, 1)                 4         \n",
      "=================================================================\n",
      "Total params: 1,000,166\n",
      "Trainable params: 1,000,166\n",
      "Non-trainable params: 0\n",
      "_________________________________________________________________\n"
     ]
    }
   ],
   "source": [
    "tf.debugging.set_log_device_placement(True)\n",
    "gpus = tf.config.list_logical_devices('GPU')\n",
    "strategy = tf.distribute.MirroredStrategy(gpus)\n",
    "with strategy.scope():\n",
    "    def simple_rnn_smaller3():\n",
    "        model = Sequential()\n",
    "        model.add(Embedding(max_features_words, 50, input_shape=(x_train.shape[1],))) \n",
    "        model.add(SimpleRNN(3,  kernel_initializer=initializers.RandomNormal(stddev=0.001)))\n",
    "        model.add(Dense(1, activation='sigmoid')) ##### Dense 1 == output class\n",
    "        model.summary()\n",
    "        return model\n",
    "\n",
    "\n",
    "\n",
    "model6 = simple_rnn_smaller3()\n"
   ]
  },
  {
   "cell_type": "code",
   "execution_count": 115,
   "metadata": {},
   "outputs": [
    {
     "name": "stdout",
     "output_type": "stream",
     "text": [
      "Model: \"sequential_6\"\n",
      "_________________________________________________________________\n",
      "Layer (type)                 Output Shape              Param #   \n",
      "=================================================================\n",
      "embedding_6 (Embedding)      (None, 80, 50)            1000000   \n",
      "_________________________________________________________________\n",
      "simple_rnn_6 (SimpleRNN)     (None, 3)                 162       \n",
      "_________________________________________________________________\n",
      "dense_6 (Dense)              (None, 1)                 4         \n",
      "=================================================================\n",
      "Total params: 1,000,166\n",
      "Trainable params: 1,000,166\n",
      "Non-trainable params: 0\n",
      "_________________________________________________________________\n"
     ]
    }
   ],
   "source": [
    "##### Compile model simple_rnn_smaller3\n",
    "\n",
    "model6.compile(optimizer = optimizers.RMSprop(lr = .0001), \n",
    "             loss='binary_crossentropy',\n",
    "              metrics=METRICS )\n",
    "\n",
    "model6.summary()\n"
   ]
  },
  {
   "cell_type": "code",
   "execution_count": 116,
   "metadata": {},
   "outputs": [
    {
     "name": "stdout",
     "output_type": "stream",
     "text": [
      "Epoch 1/10\n",
      "625/625 [==============================] - 20s 31ms/step - loss: 0.6703 - acc: 0.7689 - precision: 0.7557 - recall: 0.7954 - val_loss: 0.6006 - val_acc: 0.7032 - val_precision: 0.6556 - val_recall: 0.8404\n",
      "Epoch 2/10\n",
      "625/625 [==============================] - 20s 31ms/step - loss: 0.5687 - acc: 0.7481 - precision: 0.7432 - recall: 0.7490 - val_loss: 0.5616 - val_acc: 0.7512 - val_precision: 0.7667 - val_recall: 0.7132\n",
      "Epoch 3/10\n",
      "625/625 [==============================] - 19s 31ms/step - loss: 0.5339 - acc: 0.7847 - precision: 0.7787 - recall: 0.7947 - val_loss: 0.5433 - val_acc: 0.7626 - val_precision: 0.7367 - val_recall: 0.8080\n",
      "Epoch 4/10\n",
      "625/625 [==============================] - 19s 31ms/step - loss: 0.5070 - acc: 0.8075 - precision: 0.8036 - recall: 0.8156 - val_loss: 0.5264 - val_acc: 0.7764 - val_precision: 0.7946 - val_recall: 0.7380\n",
      "Epoch 5/10\n",
      "625/625 [==============================] - 19s 30ms/step - loss: 0.4856 - acc: 0.8245 - precision: 0.8254 - recall: 0.8190 - val_loss: 0.5189 - val_acc: 0.7708 - val_precision: 0.7429 - val_recall: 0.8194\n",
      "Epoch 6/10\n",
      "625/625 [==============================] - 19s 31ms/step - loss: 0.4666 - acc: 0.8341 - precision: 0.8328 - recall: 0.8394 - val_loss: 0.4948 - val_acc: 0.7934 - val_precision: 0.7794 - val_recall: 0.8113\n",
      "Epoch 7/10\n",
      "625/625 [==============================] - 19s 31ms/step - loss: 0.4402 - acc: 0.8511 - precision: 0.8492 - recall: 0.8542 - val_loss: 0.4767 - val_acc: 0.8058 - val_precision: 0.7901 - val_recall: 0.8262\n",
      "Epoch 8/10\n",
      "625/625 [==============================] - 19s 31ms/step - loss: 0.4167 - acc: 0.8643 - precision: 0.8659 - recall: 0.8651 - val_loss: 0.4639 - val_acc: 0.8060 - val_precision: 0.7906 - val_recall: 0.8258\n",
      "Epoch 9/10\n",
      "625/625 [==============================] - 19s 30ms/step - loss: 0.3927 - acc: 0.8724 - precision: 0.8655 - recall: 0.8801 - val_loss: 0.4426 - val_acc: 0.8222 - val_precision: 0.8209 - val_recall: 0.8185\n",
      "Epoch 10/10\n",
      "625/625 [==============================] - 19s 31ms/step - loss: 0.3682 - acc: 0.8841 - precision: 0.8892 - recall: 0.8778 - val_loss: 0.4306 - val_acc: 0.8240 - val_precision: 0.8078 - val_recall: 0.8445\n",
      "192.8462312221527\n"
     ]
    }
   ],
   "source": [
    "import time\n",
    "\n",
    "start = time.time()\n",
    "\n",
    "# train model\n",
    "history6 = model6.fit(x_train, y_train,\n",
    "                    epochs=10,\n",
    "                    validation_split=0.2)\n",
    "\n",
    "end = time.time()\n",
    "\n",
    "print(end - start)"
   ]
  },
  {
   "cell_type": "code",
   "execution_count": 118,
   "metadata": {},
   "outputs": [
    {
     "data": {
      "image/png": "[encoded data removed]",
      "text/plain": [
       "<Figure size 576x396 with 1 Axes>"
      ]
     },
     "metadata": {},
     "output_type": "display_data"
    },
    {
     "data": {
      "image/png": "[encoded data removed]",
      "text/plain": [
       "<Figure size 576x396 with 1 Axes>"
      ]
     },
     "metadata": {},
     "output_type": "display_data"
    }
   ],
   "source": [
    "\n",
    "#### Plot training & validation accuracy values\n",
    "figsize = (25, 12)\n",
    "plt.style.use(\"ggplot\")\n",
    "plt.rcParams['axes.facecolor']='white'\n",
    "epochs = range(1, (len(model6.history.history['acc']) + 1))\n",
    "plt.plot(epochs,model6.history.history['acc'])\n",
    "plt.plot(epochs,model6.history.history['val_acc'])\n",
    "plt.title('Model simple_rnn_smaller3 accuracy')\n",
    "plt.ylabel('Accuracy')\n",
    "plt.xlabel('Epoch')\n",
    "plt.legend(['Training Accuracy', 'Validation Accuracy'], loc='upper left')\n",
    "plt.show()\n",
    "\n",
    "#### Plot training & validation loss values\n",
    "plt.plot(epochs,model6.history.history['loss'])\n",
    "plt.plot(epochs,model6.history.history['val_loss'])\n",
    "plt.title('Model simple_rnn_smaller3 loss')\n",
    "plt.ylabel('Loss')\n",
    "plt.xlabel('Epoch')\n",
    "plt.legend(['Training Loss', 'Validation Loss'], loc='lower right')\n",
    "plt.show()"
   ]
  },
  {
   "cell_type": "code",
   "execution_count": 120,
   "metadata": {},
   "outputs": [],
   "source": [
    "##### In terms of training time it was similar to the previous rnn 16 but \n",
    "##### total training time was :192.84 sec"
   ]
  },
  {
   "cell_type": "code",
   "execution_count": null,
   "metadata": {},
   "outputs": [],
   "source": [
    "##### evaluation training / test set results model SimpleRNN(3)"
   ]
  },
  {
   "cell_type": "code",
   "execution_count": 121,
   "metadata": {},
   "outputs": [
    {
     "name": "stdout",
     "output_type": "stream",
     "text": [
      "Training Accuracy modelSimpleRNN(3) is:  0.88\n",
      "Validation Accuracy modelSimpleRNN(3)is:  0.82\n",
      "Training loss modelSimpleRNN(3)is:  0.37\n",
      "Validation loss modelSimpleRNN(3)is:  0.43\n",
      "782/782 [==============================] - 6s 7ms/step - loss: 0.4441 - acc: 0.8099 - precision: 0.8002 - recall: 0.8261\n",
      "loss in test set: 44.41485404968262\n",
      "Accuracy in test set: 80.9880018234253\n"
     ]
    }
   ],
   "source": [
    "\n",
    "print(\"Training Accuracy modelSimpleRNN(3) is: \",format(history6.history['acc'][-1],\".2f\"))\n",
    "\n",
    "\n",
    "\n",
    "\n",
    "print(\"Validation Accuracy modelSimpleRNN(3)is: \",format(history6.history['val_acc'][-1],\".2f\"))\n",
    "\n",
    "\n",
    "\n",
    "\n",
    "\n",
    "print(\"Training loss modelSimpleRNN(3)is: \",format(history6.history['loss'][-1],\".2f\"))\n",
    "\n",
    "\n",
    "\n",
    "\n",
    "\n",
    "print(\"Validation loss modelSimpleRNN(3)is: \",format(history6.history['val_loss'][-1],\".2f\"))\n",
    "\n",
    "\n",
    "\n",
    "\n",
    "\n",
    "score6 = model6.evaluate(x_test,y_test)\n",
    "\n",
    "\n",
    "\n",
    "\n",
    "print(\"loss in test set:\", score6[0]*100)\n",
    "\n",
    "\n",
    "\n",
    "\n",
    "print(\"Accuracy in test set:\", score6[1]*100)"
   ]
  },
  {
   "cell_type": "markdown",
   "metadata": {},
   "source": [
    "###### Model6 SimpleRNN(3) with sequences of length 80 did improve our Accuracy in test set to 80.98  vs first two models 78.37 vs 77.12 (SimpleRNN layer with 5 neuron)\n",
    "###### But not improve it over our previous model of 16 hidden dimension. ( acc=82.49)\n",
    "###### Training time increased compared with the previous two model"
   ]
  },
  {
   "cell_type": "markdown",
   "metadata": {},
   "source": [
    "## Train LSTM and GRU networks"
   ]
  },
  {
   "cell_type": "markdown",
   "metadata": {},
   "source": [
    "\n",
    "14- Build LSTM and GRU networks and compare their performance (accuracy and execution time) with the SimpleRNN. What is your conclusion?"
   ]
  },
  {
   "cell_type": "markdown",
   "metadata": {},
   "source": [
    "##### LSTM Model with sequences of max length 80"
   ]
  },
  {
   "cell_type": "code",
   "execution_count": 11,
   "metadata": {},
   "outputs": [
    {
     "name": "stdout",
     "output_type": "stream",
     "text": [
      "--- 0.5105278491973877 seconds ---\n",
      "x_train shape: (25000, 80)\n",
      "x_test shape: (25000, 80)\n"
     ]
    }
   ],
   "source": [
    "import time\n",
    "start_time = time.time()\n",
    "\n",
    "x_train = sequence.pad_sequences(x_train, maxlen=80)\n",
    "x_test = sequence.pad_sequences(x_test, maxlen=80)\n",
    "\n",
    "print(\"--- %s seconds ---\" % (time.time() - start_time)) \n",
    "\n",
    "print('x_train shape:', x_train.shape)\n",
    "print('x_test shape:', x_test.shape)"
   ]
  },
  {
   "cell_type": "markdown",
   "metadata": {},
   "source": [
    "#### LSTM model"
   ]
  },
  {
   "cell_type": "code",
   "execution_count": 18,
   "metadata": {},
   "outputs": [
    {
     "name": "stdout",
     "output_type": "stream",
     "text": [
      "INFO:tensorflow:Using MirroredStrategy with devices ('/job:localhost/replica:0/task:0/device:GPU:0',)\n",
      "Model: \"sequential_4\"\n",
      "_________________________________________________________________\n",
      "Layer (type)                 Output Shape              Param #   \n",
      "=================================================================\n",
      "embedding_4 (Embedding)      (None, 80, 50)            1000000   \n",
      "_________________________________________________________________\n",
      "lstm_8 (LSTM)                (None, 80, 100)           60400     \n",
      "_________________________________________________________________\n",
      "lstm_9 (LSTM)                (None, 10)                4440      \n",
      "_________________________________________________________________\n",
      "dropout_2 (Dropout)          (None, 10)                0         \n",
      "_________________________________________________________________\n",
      "dense_4 (Dense)              (None, 8)                 88        \n",
      "_________________________________________________________________\n",
      "dense_5 (Dense)              (None, 1)                 9         \n",
      "=================================================================\n",
      "Total params: 1,064,937\n",
      "Trainable params: 1,064,937\n",
      "Non-trainable params: 0\n",
      "_________________________________________________________________\n"
     ]
    }
   ],
   "source": [
    "tf.debugging.set_log_device_placement(True)\n",
    "gpus = tf.config.list_logical_devices('GPU')\n",
    "strategy = tf.distribute.MirroredStrategy(gpus)\n",
    "with strategy.scope():\n",
    "    def LSTM_100():\n",
    "        model = Sequential()\n",
    "        model.add(Embedding(max_features_words, 50, input_shape=(x_train.shape[1],))) \n",
    "        model.add(LSTM(units=100,return_sequences=True))\n",
    "        model.add(LSTM(units=10))\n",
    "        model.add(Dropout(0.5))\n",
    "        model.add(Dense(8))\n",
    "        model.add(Dense(1, activation='sigmoid')) ##### Dense 1 == output class\n",
    "        model.summary()\n",
    "        return model\n",
    "\n",
    "\n",
    "\n",
    "model7 = LSTM_100()\n"
   ]
  },
  {
   "cell_type": "code",
   "execution_count": 21,
   "metadata": {},
   "outputs": [
    {
     "name": "stdout",
     "output_type": "stream",
     "text": [
      "Model: \"sequential_4\"\n",
      "_________________________________________________________________\n",
      "Layer (type)                 Output Shape              Param #   \n",
      "=================================================================\n",
      "embedding_4 (Embedding)      (None, 80, 50)            1000000   \n",
      "_________________________________________________________________\n",
      "lstm_8 (LSTM)                (None, 80, 100)           60400     \n",
      "_________________________________________________________________\n",
      "lstm_9 (LSTM)                (None, 10)                4440      \n",
      "_________________________________________________________________\n",
      "dropout_2 (Dropout)          (None, 10)                0         \n",
      "_________________________________________________________________\n",
      "dense_4 (Dense)              (None, 8)                 88        \n",
      "_________________________________________________________________\n",
      "dense_5 (Dense)              (None, 1)                 9         \n",
      "=================================================================\n",
      "Total params: 1,064,937\n",
      "Trainable params: 1,064,937\n",
      "Non-trainable params: 0\n",
      "_________________________________________________________________\n"
     ]
    }
   ],
   "source": [
    "##### Compile model LSTM_100\n",
    "\n",
    "model7.compile(optimizer = optimizers.RMSprop(lr = .0001), \n",
    "             loss='binary_crossentropy',\n",
    "              metrics=METRICS )\n",
    "\n",
    "model7.summary()\n"
   ]
  },
  {
   "cell_type": "code",
   "execution_count": 22,
   "metadata": {},
   "outputs": [
    {
     "name": "stdout",
     "output_type": "stream",
     "text": [
      "Epoch 1/10\n",
      "625/625 [==============================] - 71s 15ms/step - loss: 0.6842 - acc: 0.5527 - precision: 0.5518 - recall: 0.5364 - val_loss: 0.5720 - val_acc: 0.7258 - val_precision: 0.7284 - val_recall: 0.7092\n",
      "Epoch 2/10\n",
      "625/625 [==============================] - 8s 13ms/step - loss: 0.5306 - acc: 0.7716 - precision: 0.7775 - recall: 0.7656 - val_loss: 0.4383 - val_acc: 0.8028 - val_precision: 0.8053 - val_recall: 0.7922\n",
      "Epoch 3/10\n",
      "625/625 [==============================] - 8s 13ms/step - loss: 0.4069 - acc: 0.8344 - precision: 0.8335 - recall: 0.8305 - val_loss: 0.4267 - val_acc: 0.8104 - val_precision: 0.8579 - val_recall: 0.7384\n",
      "Epoch 4/10\n",
      "625/625 [==============================] - 8s 13ms/step - loss: 0.3430 - acc: 0.8665 - precision: 0.8661 - recall: 0.8709 - val_loss: 0.3767 - val_acc: 0.8312 - val_precision: 0.8430 - val_recall: 0.8088\n",
      "Epoch 5/10\n",
      "625/625 [==============================] - 8s 13ms/step - loss: 0.3060 - acc: 0.8821 - precision: 0.8833 - recall: 0.8821 - val_loss: 0.3789 - val_acc: 0.8312 - val_precision: 0.7911 - val_recall: 0.8943\n",
      "Epoch 6/10\n",
      "625/625 [==============================] - 8s 13ms/step - loss: 0.2926 - acc: 0.8923 - precision: 0.8902 - recall: 0.8934 - val_loss: 0.3808 - val_acc: 0.8350 - val_precision: 0.7936 - val_recall: 0.9000\n",
      "Epoch 7/10\n",
      "625/625 [==============================] - 8s 12ms/step - loss: 0.2690 - acc: 0.9015 - precision: 0.9001 - recall: 0.9012 - val_loss: 0.3605 - val_acc: 0.8442 - val_precision: 0.8599 - val_recall: 0.8177\n",
      "Epoch 8/10\n",
      "625/625 [==============================] - 8s 13ms/step - loss: 0.2578 - acc: 0.9083 - precision: 0.9076 - recall: 0.9091 - val_loss: 0.4115 - val_acc: 0.8366 - val_precision: 0.8755 - val_recall: 0.7801\n",
      "Epoch 9/10\n",
      "625/625 [==============================] - 8s 13ms/step - loss: 0.2506 - acc: 0.9096 - precision: 0.9089 - recall: 0.9118 - val_loss: 0.3953 - val_acc: 0.8398 - val_precision: 0.8604 - val_recall: 0.8064\n",
      "Epoch 10/10\n",
      "625/625 [==============================] - 8s 13ms/step - loss: 0.2407 - acc: 0.9152 - precision: 0.9158 - recall: 0.9139 - val_loss: 0.3757 - val_acc: 0.8432 - val_precision: 0.8512 - val_recall: 0.8271\n",
      "141.9715437889099\n"
     ]
    }
   ],
   "source": [
    "import time\n",
    "\n",
    "start = time.time()\n",
    "\n",
    "# train model\n",
    "history7 = model7.fit(x_train, y_train,\n",
    "                    epochs=10,\n",
    "                    validation_split=0.2)\n",
    "\n",
    "end = time.time()\n",
    "\n",
    "print(end - start)"
   ]
  },
  {
   "cell_type": "code",
   "execution_count": 23,
   "metadata": {},
   "outputs": [
    {
     "data": {
      "image/png": "[encoded data removed]",
      "text/plain": [
       "<Figure size 576x396 with 1 Axes>"
      ]
     },
     "metadata": {},
     "output_type": "display_data"
    },
    {
     "data": {
      "image/png": "[encoded data removed]",
      "text/plain": [
       "<Figure size 576x396 with 1 Axes>"
      ]
     },
     "metadata": {},
     "output_type": "display_data"
    }
   ],
   "source": [
    "#### Plot training & validation accuracy values\n",
    "figsize = (25, 12)\n",
    "plt.style.use(\"ggplot\")\n",
    "plt.rcParams['axes.facecolor']='white'\n",
    "epochs = range(1, (len(model7.history.history['acc']) + 1))\n",
    "plt.plot(epochs,model7.history.history['acc'])\n",
    "plt.plot(epochs,model7.history.history['val_acc'])\n",
    "plt.title('Model LSTM 100 accuracy')\n",
    "plt.ylabel('Accuracy')\n",
    "plt.xlabel('Epoch')\n",
    "plt.legend(['Training Accuracy', 'Validation Accuracy'], loc='upper left')\n",
    "plt.show()\n",
    "\n",
    "#### Plot training & validation loss values\n",
    "plt.plot(epochs,model7.history.history['loss'])\n",
    "plt.plot(epochs,model7.history.history['val_loss'])\n",
    "plt.title('Model LSTM 100 loss')\n",
    "plt.ylabel('Loss')\n",
    "plt.xlabel('Epoch')\n",
    "plt.legend(['Training Loss', 'Validation Loss'], loc='lower right')\n",
    "plt.show()"
   ]
  },
  {
   "cell_type": "markdown",
   "metadata": {},
   "source": [
    "##### In terms of training time it was similar to the previous rnn with 16 hidden units \n",
    "##### but greater than the firstSimpleRNN layer with 5 neurons  \n",
    "##### total training time was :141.97 sec"
   ]
  },
  {
   "cell_type": "code",
   "execution_count": 24,
   "metadata": {},
   "outputs": [],
   "source": [
    "##### evaluation training / test set results of LSTM model 100 "
   ]
  },
  {
   "cell_type": "code",
   "execution_count": 25,
   "metadata": {},
   "outputs": [
    {
     "name": "stdout",
     "output_type": "stream",
     "text": [
      "Training Accuracy LSTM 100 is:  0.91\n",
      "Validation Accuracy LSTM 100is:  0.84\n",
      "Training loss LSTM 100is:  0.25\n",
      "Validation loss LSTM 100is:  0.38\n",
      "782/782 [==============================] - 4s 5ms/step - loss: 0.3909 - acc: 0.8382 - precision: 0.8507 - recall: 0.8202\n",
      "loss in test set: 39.090582728385925\n",
      "Accuracy in test set: 83.815997838974\n"
     ]
    }
   ],
   "source": [
    "\n",
    "print(\"Training Accuracy LSTM 100 is: \",format(history7.history['acc'][-1],\".2f\"))\n",
    "\n",
    "\n",
    "\n",
    "\n",
    "print(\"Validation Accuracy LSTM 100is: \",format(history7.history['val_acc'][-1],\".2f\"))\n",
    "\n",
    "\n",
    "\n",
    "\n",
    "\n",
    "print(\"Training loss LSTM 100is: \",format(history7.history['loss'][-1],\".2f\"))\n",
    "\n",
    "\n",
    "\n",
    "\n",
    "\n",
    "print(\"Validation loss LSTM 100is: \",format(history7.history['val_loss'][-1],\".2f\"))\n",
    "\n",
    "\n",
    "\n",
    "\n",
    "\n",
    "score7 = model7.evaluate(x_test,y_test)\n",
    "\n",
    "\n",
    "\n",
    "\n",
    "print(\"loss in test set:\", score7[0]*100)\n",
    "\n",
    "\n",
    "\n",
    "\n",
    "print(\"Accuracy in test set:\", score7[1]*100)"
   ]
  },
  {
   "cell_type": "markdown",
   "metadata": {},
   "source": [
    "##### LSTM Model with sequences of length 80 did improve our Accuracy in test set to 83.81 outperforming all previous models\n",
    "#### Training time increased compared with the initial RNN models of with 5 neurons and max lenght 30"
   ]
  },
  {
   "cell_type": "markdown",
   "metadata": {},
   "source": [
    "##### Let's change the optimizer to Adam and reduce the batch size to 32"
   ]
  },
  {
   "cell_type": "code",
   "execution_count": 13,
   "metadata": {},
   "outputs": [
    {
     "name": "stdout",
     "output_type": "stream",
     "text": [
      "INFO:tensorflow:Using MirroredStrategy with devices ('/job:localhost/replica:0/task:0/device:GPU:0',)\n",
      "Model: \"sequential_1\"\n",
      "_________________________________________________________________\n",
      "Layer (type)                 Output Shape              Param #   \n",
      "=================================================================\n",
      "embedding_1 (Embedding)      (None, 80, 50)            1000000   \n",
      "_________________________________________________________________\n",
      "lstm_2 (LSTM)                (None, 80, 100)           60400     \n",
      "_________________________________________________________________\n",
      "lstm_3 (LSTM)                (None, 10)                4440      \n",
      "_________________________________________________________________\n",
      "dropout_1 (Dropout)          (None, 10)                0         \n",
      "_________________________________________________________________\n",
      "dense_2 (Dense)              (None, 8)                 88        \n",
      "_________________________________________________________________\n",
      "dense_3 (Dense)              (None, 1)                 9         \n",
      "=================================================================\n",
      "Total params: 1,064,937\n",
      "Trainable params: 1,064,937\n",
      "Non-trainable params: 0\n",
      "_________________________________________________________________\n"
     ]
    }
   ],
   "source": [
    "tf.debugging.set_log_device_placement(True)\n",
    "gpus = tf.config.list_logical_devices('GPU')\n",
    "strategy = tf.distribute.MirroredStrategy(gpus)\n",
    "with strategy.scope():\n",
    "    def LSTM_100Adam():\n",
    "        model = Sequential()\n",
    "        model.add(Embedding(max_features_words, 50, input_shape=(x_train.shape[1],))) \n",
    "        model.add(LSTM(units=100,return_sequences=True))\n",
    "        model.add(LSTM(units=10))\n",
    "        model.add(Dropout(0.5))\n",
    "        model.add(Dense(8))\n",
    "        model.add(Dense(1, activation='sigmoid')) ##### Dense 1 == output class\n",
    "        model.summary()\n",
    "        return model\n",
    "\n",
    "\n",
    "\n",
    "model8 = LSTM_100Adam()\n"
   ]
  },
  {
   "cell_type": "code",
   "execution_count": 14,
   "metadata": {},
   "outputs": [
    {
     "name": "stdout",
     "output_type": "stream",
     "text": [
      "Model: \"sequential_1\"\n",
      "_________________________________________________________________\n",
      "Layer (type)                 Output Shape              Param #   \n",
      "=================================================================\n",
      "embedding_1 (Embedding)      (None, 80, 50)            1000000   \n",
      "_________________________________________________________________\n",
      "lstm_2 (LSTM)                (None, 80, 100)           60400     \n",
      "_________________________________________________________________\n",
      "lstm_3 (LSTM)                (None, 10)                4440      \n",
      "_________________________________________________________________\n",
      "dropout_1 (Dropout)          (None, 10)                0         \n",
      "_________________________________________________________________\n",
      "dense_2 (Dense)              (None, 8)                 88        \n",
      "_________________________________________________________________\n",
      "dense_3 (Dense)              (None, 1)                 9         \n",
      "=================================================================\n",
      "Total params: 1,064,937\n",
      "Trainable params: 1,064,937\n",
      "Non-trainable params: 0\n",
      "_________________________________________________________________\n"
     ]
    }
   ],
   "source": [
    "##### Compile model LSTM_100\n",
    "\n",
    "model8.compile(optimizer = optimizers.Adam(lr =  0.001, decay = 0.01/32), \n",
    "             loss='binary_crossentropy',\n",
    "              metrics=METRICS )\n",
    "\n",
    "model8.summary()\n"
   ]
  },
  {
   "cell_type": "code",
   "execution_count": 15,
   "metadata": {},
   "outputs": [
    {
     "name": "stdout",
     "output_type": "stream",
     "text": [
      "Epoch 1/10\n",
      "625/625 [==============================] - 14s 17ms/step - loss: 0.5515 - acc: 0.6965 - precision: 0.6954 - recall: 0.6860 - val_loss: 0.3707 - val_acc: 0.8370 - val_precision: 0.8769 - val_recall: 0.7793\n",
      "Epoch 2/10\n",
      "625/625 [==============================] - 9s 15ms/step - loss: 0.2775 - acc: 0.9008 - precision: 0.9080 - recall: 0.8918 - val_loss: 0.3721 - val_acc: 0.8316 - val_precision: 0.8402 - val_recall: 0.8137\n",
      "Epoch 3/10\n",
      "625/625 [==============================] - 9s 15ms/step - loss: 0.1661 - acc: 0.9512 - precision: 0.9517 - recall: 0.9521 - val_loss: 0.4423 - val_acc: 0.8324 - val_precision: 0.8303 - val_recall: 0.8303\n",
      "Epoch 4/10\n",
      "625/625 [==============================] - 9s 15ms/step - loss: 0.1012 - acc: 0.9715 - precision: 0.9731 - recall: 0.9705 - val_loss: 0.5674 - val_acc: 0.8192 - val_precision: 0.8025 - val_recall: 0.8408\n",
      "Epoch 5/10\n",
      "625/625 [==============================] - 9s 15ms/step - loss: 0.0532 - acc: 0.9867 - precision: 0.9877 - recall: 0.9859 - val_loss: 0.7905 - val_acc: 0.8156 - val_precision: 0.7913 - val_recall: 0.8510\n",
      "Epoch 6/10\n",
      "625/625 [==============================] - 9s 15ms/step - loss: 0.0354 - acc: 0.9917 - precision: 0.9923 - recall: 0.9912 - val_loss: 0.9988 - val_acc: 0.8108 - val_precision: 0.8064 - val_recall: 0.8117\n",
      "Epoch 7/10\n",
      "625/625 [==============================] - 9s 15ms/step - loss: 0.0180 - acc: 0.9965 - precision: 0.9972 - recall: 0.9958 - val_loss: 1.1453 - val_acc: 0.8100 - val_precision: 0.8155 - val_recall: 0.7951\n",
      "Epoch 8/10\n",
      "625/625 [==============================] - 9s 15ms/step - loss: 0.0129 - acc: 0.9962 - precision: 0.9971 - recall: 0.9955 - val_loss: 1.3653 - val_acc: 0.8080 - val_precision: 0.7755 - val_recall: 0.8603\n",
      "Epoch 9/10\n",
      "625/625 [==============================] - 9s 15ms/step - loss: 0.0132 - acc: 0.9967 - precision: 0.9967 - recall: 0.9968 - val_loss: 1.3536 - val_acc: 0.8096 - val_precision: 0.8092 - val_recall: 0.8040\n",
      "Epoch 10/10\n",
      "625/625 [==============================] - 9s 15ms/step - loss: 0.0056 - acc: 0.9988 - precision: 0.9992 - recall: 0.9984 - val_loss: 1.7725 - val_acc: 0.8060 - val_precision: 0.8169 - val_recall: 0.7825\n",
      "97.23815250396729\n"
     ]
    }
   ],
   "source": [
    "import time\n",
    "\n",
    "start = time.time()\n",
    "\n",
    "# train model\n",
    "history8 = model8.fit(x_train, y_train,\n",
    "                    epochs=10,\n",
    "                    batch_size=32,\n",
    "                    validation_split=0.2)\n",
    "\n",
    "end = time.time()\n",
    "\n",
    "print(end - start)"
   ]
  },
  {
   "cell_type": "code",
   "execution_count": 16,
   "metadata": {},
   "outputs": [
    {
     "data": {
      "image/png": "[encoded data removed]",
      "text/plain": [
       "<Figure size 576x396 with 1 Axes>"
      ]
     },
     "metadata": {},
     "output_type": "display_data"
    },
    {
     "data": {
      "image/png": "[encoded data removed]",
      "text/plain": [
       "<Figure size 576x396 with 1 Axes>"
      ]
     },
     "metadata": {},
     "output_type": "display_data"
    }
   ],
   "source": [
    "#### Plot training & validation accuracy values\n",
    "figsize = (25, 12)\n",
    "plt.style.use(\"ggplot\")\n",
    "plt.rcParams['axes.facecolor']='white'\n",
    "epochs = range(1, (len(model8.history.history['acc']) + 1))\n",
    "plt.plot(epochs,model8.history.history['acc'])\n",
    "plt.plot(epochs,model8.history.history['val_acc'])\n",
    "plt.title('Model LSTM 100 Adam Opti accuracy')\n",
    "plt.ylabel('Accuracy')\n",
    "plt.xlabel('Epoch')\n",
    "plt.legend(['Training Accuracy', 'Validation Accuracy'], loc='upper left')\n",
    "plt.show()\n",
    "\n",
    "#### Plot training & validation loss values\n",
    "plt.plot(epochs,model8.history.history['loss'])\n",
    "plt.plot(epochs,model8.history.history['val_loss'])\n",
    "plt.title('Model LSTM 100 Adam Opti loss')\n",
    "plt.ylabel('Loss')\n",
    "plt.xlabel('Epoch')\n",
    "plt.legend(['Training Loss', 'Validation Loss'], loc='lower right')\n",
    "plt.show()"
   ]
  },
  {
   "cell_type": "code",
   "execution_count": 17,
   "metadata": {},
   "outputs": [
    {
     "name": "stdout",
     "output_type": "stream",
     "text": [
      "Training Accuracy LSTM 100 Adam Opt is:  1.00\n",
      "Validation Accuracy LSTM 100 Adam Opt is:  0.81\n",
      "Training loss LSTM 100 Adam Opt is:  0.01\n",
      "Validation loss LSTM 100 Adam Opt is:  1.77\n",
      "782/782 [==============================] - 4s 5ms/step - loss: 1.8036 - acc: 0.8015 - precision: 0.8202 - recall: 0.7723\n",
      "loss in test set: 180.36174774169922\n",
      "Accuracy in test set: 80.15199899673462\n"
     ]
    }
   ],
   "source": [
    "print(\"Training Accuracy LSTM 100 Adam Opt is: \",format(history8.history['acc'][-1],\".2f\"))\n",
    "\n",
    "\n",
    "\n",
    "\n",
    "print(\"Validation Accuracy LSTM 100 Adam Opt is: \",format(history8.history['val_acc'][-1],\".2f\"))\n",
    "\n",
    "\n",
    "\n",
    "\n",
    "\n",
    "print(\"Training loss LSTM 100 Adam Opt is: \",format(history8.history['loss'][-1],\".2f\"))\n",
    "\n",
    "\n",
    "\n",
    "\n",
    "\n",
    "print(\"Validation loss LSTM 100 Adam Opt is: \",format(history8.history['val_loss'][-1],\".2f\"))\n",
    "\n",
    "\n",
    "\n",
    "\n",
    "\n",
    "score8 = model8.evaluate(x_test,y_test)\n",
    "\n",
    "\n",
    "\n",
    "\n",
    "print(\"loss in test set:\", score8[0]*100)\n",
    "\n",
    "\n",
    "\n",
    "\n",
    "print(\"Accuracy in test set:\", score8[1]*100)"
   ]
  },
  {
   "cell_type": "code",
   "execution_count": 18,
   "metadata": {},
   "outputs": [],
   "source": [
    "##### Did not improve using RMSprop(lr = .0001) optimizer"
   ]
  },
  {
   "cell_type": "markdown",
   "metadata": {},
   "source": [
    "###### GRU Layer with sequences of max length 80"
   ]
  },
  {
   "cell_type": "code",
   "execution_count": 23,
   "metadata": {},
   "outputs": [
    {
     "name": "stdout",
     "output_type": "stream",
     "text": [
      "INFO:tensorflow:Using MirroredStrategy with devices ('/job:localhost/replica:0/task:0/device:GPU:0',)\n",
      "Model: \"sequential_3\"\n",
      "_________________________________________________________________\n",
      "Layer (type)                 Output Shape              Param #   \n",
      "=================================================================\n",
      "embedding_3 (Embedding)      (None, 80, 50)            1000000   \n",
      "_________________________________________________________________\n",
      "gru (GRU)                    (None, 128)               69120     \n",
      "_________________________________________________________________\n",
      "dropout_2 (Dropout)          (None, 128)               0         \n",
      "_________________________________________________________________\n",
      "dense_4 (Dense)              (None, 1)                 129       \n",
      "=================================================================\n",
      "Total params: 1,069,249\n",
      "Trainable params: 1,069,249\n",
      "Non-trainable params: 0\n",
      "_________________________________________________________________\n"
     ]
    }
   ],
   "source": [
    "tf.debugging.set_log_device_placement(True)\n",
    "gpus = tf.config.list_logical_devices('GPU')\n",
    "strategy = tf.distribute.MirroredStrategy(gpus)\n",
    "with strategy.scope():\n",
    "    def GRU_128():\n",
    "        model = Sequential()\n",
    "        model.add(Embedding(max_features_words, 50, input_shape=(x_train.shape[1],))) \n",
    "        model.add(GRU(128, return_sequences=False))\n",
    "        model.add(Dropout(0.5))\n",
    "        model.add(Dense(1, activation='sigmoid')) ##### Dense 1 == output class\n",
    "        model.summary()\n",
    "        return model\n",
    "\n",
    "\n",
    "\n",
    "model9 = GRU_128()"
   ]
  },
  {
   "cell_type": "code",
   "execution_count": 24,
   "metadata": {},
   "outputs": [
    {
     "name": "stdout",
     "output_type": "stream",
     "text": [
      "Model: \"sequential_3\"\n",
      "_________________________________________________________________\n",
      "Layer (type)                 Output Shape              Param #   \n",
      "=================================================================\n",
      "embedding_3 (Embedding)      (None, 80, 50)            1000000   \n",
      "_________________________________________________________________\n",
      "gru (GRU)                    (None, 128)               69120     \n",
      "_________________________________________________________________\n",
      "dropout_2 (Dropout)          (None, 128)               0         \n",
      "_________________________________________________________________\n",
      "dense_4 (Dense)              (None, 1)                 129       \n",
      "=================================================================\n",
      "Total params: 1,069,249\n",
      "Trainable params: 1,069,249\n",
      "Non-trainable params: 0\n",
      "_________________________________________________________________\n"
     ]
    }
   ],
   "source": [
    "##### Compile model GRU\n",
    "\n",
    "model9.compile(optimizer = optimizers.RMSprop(lr = .0001), \n",
    "             loss='binary_crossentropy',\n",
    "              metrics=METRICS )\n",
    "\n",
    "model9.summary()\n"
   ]
  },
  {
   "cell_type": "code",
   "execution_count": 25,
   "metadata": {},
   "outputs": [],
   "source": [
    "##### Train GRU model"
   ]
  },
  {
   "cell_type": "code",
   "execution_count": 26,
   "metadata": {},
   "outputs": [
    {
     "name": "stdout",
     "output_type": "stream",
     "text": [
      "Epoch 1/10\n",
      "625/625 [==============================] - 7s 10ms/step - loss: 0.6918 - acc: 0.7286 - precision: 0.7116 - recall: 0.7763 - val_loss: 0.5836 - val_acc: 0.7084 - val_precision: 0.7443 - val_recall: 0.6237\n",
      "Epoch 2/10\n",
      "625/625 [==============================] - 5s 9ms/step - loss: 0.5269 - acc: 0.7424 - precision: 0.7353 - recall: 0.7559 - val_loss: 0.4160 - val_acc: 0.8072 - val_precision: 0.8009 - val_recall: 0.8113\n",
      "Epoch 3/10\n",
      "625/625 [==============================] - 5s 9ms/step - loss: 0.3851 - acc: 0.8271 - precision: 0.8222 - recall: 0.8347 - val_loss: 0.3794 - val_acc: 0.8358 - val_precision: 0.8164 - val_recall: 0.8611\n",
      "Epoch 4/10\n",
      "625/625 [==============================] - 5s 9ms/step - loss: 0.3215 - acc: 0.8599 - precision: 0.8580 - recall: 0.8658 - val_loss: 0.3551 - val_acc: 0.8450 - val_precision: 0.8538 - val_recall: 0.8279\n",
      "Epoch 5/10\n",
      "625/625 [==============================] - 6s 9ms/step - loss: 0.2731 - acc: 0.8876 - precision: 0.8888 - recall: 0.8856 - val_loss: 0.3432 - val_acc: 0.8480 - val_precision: 0.8583 - val_recall: 0.8291\n",
      "Epoch 6/10\n",
      "625/625 [==============================] - 5s 9ms/step - loss: 0.2633 - acc: 0.8927 - precision: 0.8954 - recall: 0.8894 - val_loss: 0.3584 - val_acc: 0.8492 - val_precision: 0.8163 - val_recall: 0.8963\n",
      "Epoch 7/10\n",
      "625/625 [==============================] - 5s 9ms/step - loss: 0.2516 - acc: 0.9004 - precision: 0.9001 - recall: 0.9008 - val_loss: 0.3472 - val_acc: 0.8516 - val_precision: 0.8633 - val_recall: 0.8311\n",
      "Epoch 8/10\n",
      "625/625 [==============================] - 5s 9ms/step - loss: 0.2307 - acc: 0.9092 - precision: 0.9089 - recall: 0.9084 - val_loss: 0.3411 - val_acc: 0.8518 - val_precision: 0.8462 - val_recall: 0.8554\n",
      "Epoch 9/10\n",
      "625/625 [==============================] - 5s 9ms/step - loss: 0.2261 - acc: 0.9139 - precision: 0.9136 - recall: 0.9138 - val_loss: 0.3769 - val_acc: 0.8468 - val_precision: 0.8647 - val_recall: 0.8177\n",
      "Epoch 10/10\n",
      "625/625 [==============================] - 6s 9ms/step - loss: 0.2182 - acc: 0.9164 - precision: 0.9174 - recall: 0.9165 - val_loss: 0.3514 - val_acc: 0.8490 - val_precision: 0.8580 - val_recall: 0.8319\n",
      "56.74943923950195\n"
     ]
    }
   ],
   "source": [
    "import time\n",
    "\n",
    "start = time.time()\n",
    "\n",
    "# train model\n",
    "history9 = model9.fit(x_train, y_train,\n",
    "                    epochs=10,\n",
    "                    validation_split=0.2)\n",
    "\n",
    "end = time.time()\n",
    "\n",
    "print(end - start)"
   ]
  },
  {
   "cell_type": "code",
   "execution_count": 27,
   "metadata": {},
   "outputs": [
    {
     "data": {
      "image/png": "[encoded data removed]",
      "text/plain": [
       "<Figure size 576x396 with 1 Axes>"
      ]
     },
     "metadata": {},
     "output_type": "display_data"
    },
    {
     "data": {
      "image/png": "[encoded data removed]",
      "text/plain": [
       "<Figure size 576x396 with 1 Axes>"
      ]
     },
     "metadata": {},
     "output_type": "display_data"
    }
   ],
   "source": [
    "#### Plot training & validation accuracy values\n",
    "figsize = (25, 12)\n",
    "plt.style.use(\"ggplot\")\n",
    "plt.rcParams['axes.facecolor']='white'\n",
    "epochs = range(1, (len(model9.history.history['acc']) + 1))\n",
    "plt.plot(epochs,model9.history.history['acc'])\n",
    "plt.plot(epochs,model9.history.history['val_acc'])\n",
    "plt.title('Model GRU 128 accuracy')\n",
    "plt.ylabel('Accuracy')\n",
    "plt.xlabel('Epoch')\n",
    "plt.legend(['Training Accuracy', 'Validation Accuracy'], loc='upper left')\n",
    "plt.show()\n",
    "\n",
    "#### Plot training & validation loss values\n",
    "plt.plot(epochs,model9.history.history['loss'])\n",
    "plt.plot(epochs,model9.history.history['val_loss'])\n",
    "plt.title('Model GRU 128 a loss')\n",
    "plt.ylabel('Loss')\n",
    "plt.xlabel('Epoch')\n",
    "plt.legend(['Training Loss', 'Validation Loss'], loc='lower right')\n",
    "plt.show()"
   ]
  },
  {
   "cell_type": "code",
   "execution_count": 40,
   "metadata": {},
   "outputs": [],
   "source": [
    "##### In terms of training time our GRU model was wat faster than the LSTM model and it was similar \n",
    "#### to the  the firstSimpleRNN layer with 5 neurons¶\n",
    "#### total training time was :56.74 really fast\n",
    "##### This is because  GRU has two gates (reset and update gate).\n",
    "##### Compare to LSTM that has three gates (input, output and forget gate)\n",
    "##### GRU use less training parameters and therefore use less memory, execute faster and train faster"
   ]
  },
  {
   "cell_type": "code",
   "execution_count": 30,
   "metadata": {},
   "outputs": [
    {
     "name": "stdout",
     "output_type": "stream",
     "text": [
      "Training Accuracy GRU 128 is:  0.91\n",
      "Validation Accuracy GRU 128 is:  0.85\n",
      "Training loss GRU 128 is:  0.22\n",
      "Validation loss GRU 128 is:  0.35\n",
      "782/782 [==============================] - 3s 4ms/step - loss: 0.3697 - acc: 0.8403 - precision: 0.8613 - recall: 0.8113\n",
      "loss in test set: 36.97490096092224\n",
      "Accuracy in test set: 84.03199911117554\n"
     ]
    }
   ],
   "source": [
    "print(\"Training Accuracy GRU 128 is: \",format(history9.history['acc'][-1],\".2f\"))\n",
    "\n",
    "\n",
    "\n",
    "\n",
    "print(\"Validation Accuracy GRU 128 is: \",format(history9.history['val_acc'][-1],\".2f\"))\n",
    "\n",
    "\n",
    "\n",
    "\n",
    "\n",
    "print(\"Training loss GRU 128 is: \",format(history9.history['loss'][-1],\".2f\"))\n",
    "\n",
    "\n",
    "\n",
    "\n",
    "\n",
    "print(\"Validation loss GRU 128 is: \",format(history9.history['val_loss'][-1],\".2f\"))\n",
    "\n",
    "\n",
    "\n",
    "\n",
    "\n",
    "score9 = model9.evaluate(x_test,y_test)\n",
    "\n",
    "\n",
    "\n",
    "\n",
    "print(\"loss in test set:\", score9[0]*100)\n",
    "\n",
    "\n",
    "\n",
    "\n",
    "print(\"Accuracy in test set:\", score9[1]*100)"
   ]
  },
  {
   "cell_type": "markdown",
   "metadata": {},
   "source": [
    "##### GRU Model with sequences of length 80 did improve our Accuracy in test set to 84.03 outperforming all previous models\n",
    "#### Training time decreased compared to LSTM model and lower than RNN models of with 5 neurons and max lenght 30"
   ]
  },
  {
   "cell_type": "code",
   "execution_count": 31,
   "metadata": {},
   "outputs": [],
   "source": [
    "##### Bonus architecture Bidirectional-gru with sequences of max length 80"
   ]
  },
  {
   "cell_type": "code",
   "execution_count": 32,
   "metadata": {},
   "outputs": [
    {
     "name": "stdout",
     "output_type": "stream",
     "text": [
      "INFO:tensorflow:Using MirroredStrategy with devices ('/job:localhost/replica:0/task:0/device:GPU:0',)\n",
      "Model: \"sequential_4\"\n",
      "_________________________________________________________________\n",
      "Layer (type)                 Output Shape              Param #   \n",
      "=================================================================\n",
      "embedding_4 (Embedding)      (None, 80, 50)            1000000   \n",
      "_________________________________________________________________\n",
      "bidirectional (Bidirectional (None, 256)               138240    \n",
      "_________________________________________________________________\n",
      "dropout_3 (Dropout)          (None, 256)               0         \n",
      "_________________________________________________________________\n",
      "dense_5 (Dense)              (None, 1)                 257       \n",
      "=================================================================\n",
      "Total params: 1,138,497\n",
      "Trainable params: 1,138,497\n",
      "Non-trainable params: 0\n",
      "_________________________________________________________________\n"
     ]
    }
   ],
   "source": [
    "tf.debugging.set_log_device_placement(True)\n",
    "gpus = tf.config.list_logical_devices('GPU')\n",
    "strategy = tf.distribute.MirroredStrategy(gpus)\n",
    "with strategy.scope():\n",
    "    def BidirectionalGRU_128():\n",
    "        model = Sequential()\n",
    "        model.add(Embedding(max_features_words, 50, input_shape=(x_train.shape[1],))) \n",
    "        model.add(Bidirectional(GRU(128, return_sequences=False)))\n",
    "        model.add(Dropout(0.5))\n",
    "        model.add(Dense(1, activation='sigmoid')) ##### Dense 1 == output class\n",
    "        model.summary()\n",
    "        return model\n",
    "\n",
    "\n",
    "\n",
    "model10 = BidirectionalGRU_128()"
   ]
  },
  {
   "cell_type": "code",
   "execution_count": 33,
   "metadata": {},
   "outputs": [
    {
     "data": {
      "image/png": "[encoded data removed]",
      "text/plain": [
       "<IPython.core.display.Image object>"
      ]
     },
     "execution_count": 33,
     "metadata": {},
     "output_type": "execute_result"
    }
   ],
   "source": [
    "from tensorflow.keras.utils import plot_model\n",
    "#plot the RNNlstm model architecture\n",
    "\n",
    "plot_model(model10, to_file='BidirectionalGRU_model_plot.png', show_shapes=True, show_layer_names=True)"
   ]
  },
  {
   "cell_type": "code",
   "execution_count": 34,
   "metadata": {},
   "outputs": [
    {
     "name": "stdout",
     "output_type": "stream",
     "text": [
      "Model: \"sequential_4\"\n",
      "_________________________________________________________________\n",
      "Layer (type)                 Output Shape              Param #   \n",
      "=================================================================\n",
      "embedding_4 (Embedding)      (None, 80, 50)            1000000   \n",
      "_________________________________________________________________\n",
      "bidirectional (Bidirectional (None, 256)               138240    \n",
      "_________________________________________________________________\n",
      "dropout_3 (Dropout)          (None, 256)               0         \n",
      "_________________________________________________________________\n",
      "dense_5 (Dense)              (None, 1)                 257       \n",
      "=================================================================\n",
      "Total params: 1,138,497\n",
      "Trainable params: 1,138,497\n",
      "Non-trainable params: 0\n",
      "_________________________________________________________________\n"
     ]
    }
   ],
   "source": [
    "##### Compile model Bidirectional  GRU\n",
    "\n",
    "model10.compile(optimizer = optimizers.RMSprop(lr = .0001), \n",
    "             loss='binary_crossentropy',\n",
    "              metrics=METRICS )\n",
    "\n",
    "model10.summary()"
   ]
  },
  {
   "cell_type": "code",
   "execution_count": 35,
   "metadata": {},
   "outputs": [
    {
     "name": "stdout",
     "output_type": "stream",
     "text": [
      "Epoch 1/10\n",
      "625/625 [==============================] - 11s 14ms/step - loss: 0.6910 - acc: 0.7615 - precision: 0.7715 - recall: 0.7462 - val_loss: 0.5819 - val_acc: 0.7022 - val_precision: 0.7277 - val_recall: 0.6343\n",
      "Epoch 2/10\n",
      "625/625 [==============================] - 8s 13ms/step - loss: 0.5294 - acc: 0.7378 - precision: 0.7300 - recall: 0.7419 - val_loss: 0.4240 - val_acc: 0.8028 - val_precision: 0.7772 - val_recall: 0.8420\n",
      "Epoch 3/10\n",
      "625/625 [==============================] - 8s 13ms/step - loss: 0.3841 - acc: 0.8356 - precision: 0.8343 - recall: 0.8417 - val_loss: 0.3697 - val_acc: 0.8330 - val_precision: 0.8164 - val_recall: 0.8538\n",
      "Epoch 4/10\n",
      "625/625 [==============================] - 8s 13ms/step - loss: 0.3193 - acc: 0.8669 - precision: 0.8655 - recall: 0.8676 - val_loss: 0.3535 - val_acc: 0.8402 - val_precision: 0.8187 - val_recall: 0.8688\n",
      "Epoch 5/10\n",
      "625/625 [==============================] - 8s 13ms/step - loss: 0.2797 - acc: 0.8850 - precision: 0.8830 - recall: 0.8880 - val_loss: 0.3463 - val_acc: 0.8468 - val_precision: 0.8359 - val_recall: 0.8582\n",
      "Epoch 6/10\n",
      "625/625 [==============================] - 8s 13ms/step - loss: 0.2601 - acc: 0.8924 - precision: 0.8923 - recall: 0.8922 - val_loss: 0.3536 - val_acc: 0.8398 - val_precision: 0.8075 - val_recall: 0.8870\n",
      "Epoch 7/10\n",
      "625/625 [==============================] - 8s 13ms/step - loss: 0.2388 - acc: 0.9061 - precision: 0.9042 - recall: 0.9095 - val_loss: 0.3612 - val_acc: 0.8412 - val_precision: 0.8727 - val_recall: 0.7942\n",
      "Epoch 8/10\n",
      "625/625 [==============================] - 8s 13ms/step - loss: 0.2392 - acc: 0.9085 - precision: 0.9087 - recall: 0.9071 - val_loss: 0.3470 - val_acc: 0.8472 - val_precision: 0.8589 - val_recall: 0.8262\n",
      "Epoch 9/10\n",
      "625/625 [==============================] - 8s 13ms/step - loss: 0.2234 - acc: 0.9142 - precision: 0.9160 - recall: 0.9116 - val_loss: 0.3852 - val_acc: 0.8416 - val_precision: 0.8738 - val_recall: 0.7938\n",
      "Epoch 10/10\n",
      "625/625 [==============================] - 8s 13ms/step - loss: 0.2125 - acc: 0.9158 - precision: 0.9164 - recall: 0.9157 - val_loss: 0.3952 - val_acc: 0.8428 - val_precision: 0.8125 - val_recall: 0.8862\n",
      "81.88974094390869\n"
     ]
    }
   ],
   "source": [
    "import time\n",
    "\n",
    "start = time.time()\n",
    "\n",
    "# train model\n",
    "history10 = model10.fit(x_train, y_train,\n",
    "                    epochs=10,\n",
    "                    validation_split=0.2)\n",
    "\n",
    "end = time.time()\n",
    "\n",
    "print(end - start)"
   ]
  },
  {
   "cell_type": "code",
   "execution_count": 36,
   "metadata": {},
   "outputs": [
    {
     "data": {
      "image/png": "[encoded data removed]",
      "text/plain": [
       "<Figure size 576x396 with 1 Axes>"
      ]
     },
     "metadata": {},
     "output_type": "display_data"
    },
    {
     "data": {
      "image/png": "[encoded data removed]",
      "text/plain": [
       "<Figure size 576x396 with 1 Axes>"
      ]
     },
     "metadata": {},
     "output_type": "display_data"
    }
   ],
   "source": [
    "#### Plot training & validation accuracy values\n",
    "figsize = (25, 12)\n",
    "plt.style.use(\"ggplot\")\n",
    "plt.rcParams['axes.facecolor']='white'\n",
    "epochs = range(1, (len(model10.history.history['acc']) + 1))\n",
    "plt.plot(epochs,model10.history.history['acc'])\n",
    "plt.plot(epochs,model10.history.history['val_acc'])\n",
    "plt.title('Model Bidirectional  GRU 128 accuracy')\n",
    "plt.ylabel('Accuracy')\n",
    "plt.xlabel('Epoch')\n",
    "plt.legend(['Training Accuracy', 'Validation Accuracy'], loc='upper left')\n",
    "plt.show()\n",
    "\n",
    "#### Plot training & validation loss values\n",
    "plt.plot(epochs,model10.history.history['loss'])\n",
    "plt.plot(epochs,model10.history.history['val_loss'])\n",
    "plt.title('Model Bidirectional  GRU 128 a loss')\n",
    "plt.ylabel('Loss')\n",
    "plt.xlabel('Epoch')\n",
    "plt.legend(['Training Loss', 'Validation Loss'], loc='lower right')\n",
    "plt.show()"
   ]
  },
  {
   "cell_type": "code",
   "execution_count": 37,
   "metadata": {},
   "outputs": [],
   "source": [
    "##### In terms of training time our Bidirectional GRU model was a little bit slower than previous GRU because of the\n",
    "##### Bidirectional nature here one GRU moves forward, beginning from the start of the data sequence,\n",
    "#### and the other, moves backward, beginning from the end of the data sequence. \n",
    "#### total training time was :81.88"
   ]
  },
  {
   "cell_type": "code",
   "execution_count": 38,
   "metadata": {},
   "outputs": [
    {
     "name": "stdout",
     "output_type": "stream",
     "text": [
      "Training Accuracy Bidirectional GRU  128 is:  0.91\n",
      "Validation Accuracy Bidirectional GRU  128 is:  0.84\n",
      "Training loss Bidirectional GRU  128 is:  0.22\n",
      "Validation loss Bidirectional GRU  128 is:  0.40\n",
      "782/782 [==============================] - 4s 5ms/step - loss: 0.4109 - acc: 0.8362 - precision: 0.8142 - recall: 0.8713\n",
      "loss in test set: 41.09228253364563\n",
      "Accuracy in test set: 83.61999988555908\n"
     ]
    }
   ],
   "source": [
    "print(\"Training Accuracy Bidirectional GRU  128 is: \",format(history10.history['acc'][-1],\".2f\"))\n",
    "\n",
    "\n",
    "\n",
    "\n",
    "print(\"Validation Accuracy Bidirectional GRU  128 is: \",format(history10.history['val_acc'][-1],\".2f\"))\n",
    "\n",
    "\n",
    "\n",
    "\n",
    "\n",
    "print(\"Training loss Bidirectional GRU  128 is: \",format(history10.history['loss'][-1],\".2f\"))\n",
    "\n",
    "\n",
    "\n",
    "\n",
    "\n",
    "print(\"Validation loss Bidirectional GRU  128 is: \",format(history10.history['val_loss'][-1],\".2f\"))\n",
    "\n",
    "\n",
    "\n",
    "\n",
    "\n",
    "score10 = model10.evaluate(x_test,y_test)\n",
    "\n",
    "\n",
    "\n",
    "\n",
    "print(\"loss in test set:\", score10[0]*100)\n",
    "\n",
    "\n",
    "\n",
    "\n",
    "print(\"Accuracy in test set:\", score10[1]*100)"
   ]
  },
  {
   "cell_type": "code",
   "execution_count": 39,
   "metadata": {},
   "outputs": [],
   "source": [
    "##### Bidirectional GRU Model with sequences of length 80 did not improve our Accuracy of previous GRU Model\n",
    "##### in test set obtaining an acc of 83.61 pretty close 84.03 of previous GRU model\n",
    "#### Training time increased compared to previous GRU model"
   ]
  },
  {
   "cell_type": "markdown",
   "metadata": {},
   "source": [
    "###### Final conclusion"
   ]
  },
  {
   "cell_type": "markdown",
   "metadata": {},
   "source": [
    "##### GRU and LSTM model outperformed in terms of accuracy on test set the simple and tune RNN's model of either max lenght 30 or 80 \n",
    "##### our GRU Model with sequences of length 80 obtained an Accuracy in test set to 84.03 outperforming all previous models\n",
    "##### vs Tune RNN (maxlen=80) 78.37 vs 77.12 (simple rnn 5 neurons maxlen=30)\n",
    "##### In terms of training time with GPU runtine GRU also outperform previous models\n",
    "##### GRU use less training parameters than LSTM and therefore use less memory, execute faster and train faster\n",
    "##### This is because  GRU has two gates (reset and update gate).\n",
    "##### Compare to LSTM that has three gates (input, output and forget gate)\n",
    "##### Also the using max lenght of 80 worked better for most of the models\n",
    "##### GRU LSTMs can overcome vanishing and exploding gradients vs RNNs.\n"
   ]
  },
  {
   "cell_type": "code",
   "execution_count": null,
   "metadata": {},
   "outputs": [],
   "source": []
  }
 ],
 "metadata": {
  "kernelspec": {
   "display_name": "conda_tensorflow2_latest_p37",
   "language": "python",
   "name": "conda_tensorflow2_latest_p37"
  },
  "language_info": {
   "codemirror_mode": {
    "name": "ipython",
    "version": 3
   },
   "file_extension": ".py",
   "mimetype": "text/x-python",
   "name": "python",
   "nbconvert_exporter": "python",
   "pygments_lexer": "ipython3",
   "version": "3.7.10"
  },
  "toc": {
   "base_numbering": 1,
   "nav_menu": {},
   "number_sections": true,
   "sideBar": true,
   "skip_h1_title": false,
   "title_cell": "Table of Contents",
   "title_sidebar": "Contents",
   "toc_cell": false,
   "toc_position": {},
   "toc_section_display": true,
   "toc_window_display": false
  },
  "varInspector": {
   "cols": {
    "lenName": 16,
    "lenType": 16,
    "lenVar": 40
   },
   "kernels_config": {
    "python": {
     "delete_cmd_postfix": "",
     "delete_cmd_prefix": "del ",
     "library": "var_list.py",
     "varRefreshCmd": "print(var_dic_list())"
    },
    "r": {
     "delete_cmd_postfix": ") ",
     "delete_cmd_prefix": "rm(",
     "library": "var_list.r",
     "varRefreshCmd": "cat(var_dic_list()) "
    }
   },
   "types_to_exclude": [
    "module",
    "function",
    "builtin_function_or_method",
    "instance",
    "_Feature"
   ],
   "window_display": true
  }
 },
 "nbformat": 4,
 "nbformat_minor": 1
}
